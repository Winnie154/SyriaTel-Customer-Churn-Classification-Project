{
 "cells": [
  {
   "cell_type": "markdown",
   "metadata": {},
   "source": [
    "# Predicting Customer Churn at SyriaTel A Strategic Analysis to Improve Retention\n",
    "\n",
    "\n"
   ]
  },
  {
   "cell_type": "markdown",
   "metadata": {},
   "source": [
    "## Business Understanding\n",
    "\n",
    "Churn, also known as customer attrition, refers to the percentage of customers who discontinue or stop using a company’s services during a given period. For telecommunications companies like SyriaTel, churn is a critical metric because it directly impacts revenue growth and profitability. When a customer leaves, the company not only loses the revenue from that customer but also incurs higher costs in trying to acquire new customers to replace them.\n",
    "\n",
    "Acquiring new customers is significantly more expensive than retaining existing ones, [with estimates suggesting that it's up to 5 times more costly.](https://www.surveysensum.com/customer-experience/saas-customer-retention#:~:text=The%20same%20study%20shows%20that,and%20addressing%20clients'%20evolving%20needs.) In a highly competitive global market, telecom companies face the constant challenge of retaining customers who have various options and can easily switch providers. High churn rates increase the costs of acquiring new customers and maintaining market share, affecting a company’s ability to grow and invest in new technologies or services.\n",
    "\n",
    "Predicting and reducing churn is not only essential for sustaining SyriaTel’s market position but also for ensuring its capacity to grow, innovate, and provide competitive services in a rapidly evolving industry."
   ]
  },
  {
   "cell_type": "markdown",
   "metadata": {},
   "source": [
    "## Problem Statement\n",
    "\n",
    "SyriaTel, a telecommunications company, is facing a high customer churn rate, negatively impacting its revenue growth and profitability. Customer acquisition is up to five times more expensive than retaining existing customers, making this a significant financial challenge. In an increasingly competitive market with numerous alternatives for customers, high churn rates make it difficult for SyriaTel to maintain its market share, reinvest in innovation, and achieve long-term growth."
   ]
  },
  {
   "cell_type": "markdown",
   "metadata": {},
   "source": [
    "## Objectives\n",
    "\n",
    "1. To Identify Churn Rates by Region and which region is highly affected.\n",
    "2. To examine the impact of Account Length on Churn. Which customesrs are highly prone to attrition. \n",
    "3. To assess the influence of subscription plans (voicemail and international plans) on churn.\n",
    "4. To evaluate the impact of customer service calls on churn and determine if there is a statistically significant relationship.\n",
    "5. To predict churn by focusing on the most influential features that drive customer behavior and retention patterns."
   ]
  },
  {
   "cell_type": "markdown",
   "metadata": {},
   "source": [
    "## Success Metrics\n",
    "\n",
    "The success metric for this project would be to achieve a recall rate of at least 70%, ensuring that the model identifies a significant percentage of customers at risk of churning. This will allow the business to proactively target retention efforts, minimizing customer loss while balancing the cost of engaging non-churners. With this, SyriaTel will take timely retention actions and allocate resources more effectively to prevent churn. "
   ]
  },
  {
   "cell_type": "markdown",
   "metadata": {},
   "source": [
    "## Data Understanding\n",
    "\n",
    "This dataset was obtained from [kaggle](https://www.kaggle.com/datasets/becksddf/churn-in-telecoms-dataset?resource=download) and contains customers' dafta from SyriaTel, a telecommunications company. It includes various features related to customer behavior, usage patterns, and service details, which are crucial for analyzing customer churn and understanding the factors that influence retention."
   ]
  },
  {
   "cell_type": "code",
   "execution_count": 1,
   "metadata": {},
   "outputs": [],
   "source": [
    "#Importing the necessary libraries\n",
    "import pandas as pd\n",
    "import numpy as np\n",
    "import matplotlib.pyplot as plt\n",
    "import seaborn as sns\n",
    "from scipy.stats import ttest_ind,mannwhitneyu\n",
    "from sklearn.preprocessing import LabelEncoder\n",
    "import itertools\n",
    "from sklearn.model_selection import train_test_split\n",
    "from sklearn.linear_model import LogisticRegression\n",
    "from sklearn.metrics import roc_curve, auc,classification_report\n",
    "from sklearn.metrics import confusion_matrix, ConfusionMatrixDisplay\n",
    "from imblearn.over_sampling import SMOTE, ADASYN\n",
    "from sklearn.preprocessing import StandardScaler\n",
    "from sklearn.metrics import classification_report\n",
    "from sklearn.utils.class_weight import compute_class_weight\n",
    "from sklearn.tree import DecisionTreeClassifier\n",
    "from sklearn.feature_selection import SelectKBest,mutual_info_classif\n",
    "from sklearn.feature_selection import RFE\n",
    "from sklearn.model_selection import cross_val_score\n",
    "from sklearn.tree import DecisionTreeClassifier\n",
    "from sklearn.model_selection import GridSearchCV"
   ]
  },
  {
   "cell_type": "code",
   "execution_count": 2,
   "metadata": {
    "scrolled": true
   },
   "outputs": [
    {
     "data": {
      "text/html": [
       "<div>\n",
       "<style scoped>\n",
       "    .dataframe tbody tr th:only-of-type {\n",
       "        vertical-align: middle;\n",
       "    }\n",
       "\n",
       "    .dataframe tbody tr th {\n",
       "        vertical-align: top;\n",
       "    }\n",
       "\n",
       "    .dataframe thead th {\n",
       "        text-align: right;\n",
       "    }\n",
       "</style>\n",
       "<table border=\"1\" class=\"dataframe\">\n",
       "  <thead>\n",
       "    <tr style=\"text-align: right;\">\n",
       "      <th></th>\n",
       "      <th>state</th>\n",
       "      <th>account length</th>\n",
       "      <th>area code</th>\n",
       "      <th>phone number</th>\n",
       "      <th>international plan</th>\n",
       "      <th>voice mail plan</th>\n",
       "      <th>number vmail messages</th>\n",
       "      <th>total day minutes</th>\n",
       "      <th>total day calls</th>\n",
       "      <th>total day charge</th>\n",
       "      <th>...</th>\n",
       "      <th>total eve calls</th>\n",
       "      <th>total eve charge</th>\n",
       "      <th>total night minutes</th>\n",
       "      <th>total night calls</th>\n",
       "      <th>total night charge</th>\n",
       "      <th>total intl minutes</th>\n",
       "      <th>total intl calls</th>\n",
       "      <th>total intl charge</th>\n",
       "      <th>customer service calls</th>\n",
       "      <th>churn</th>\n",
       "    </tr>\n",
       "  </thead>\n",
       "  <tbody>\n",
       "    <tr>\n",
       "      <th>0</th>\n",
       "      <td>KS</td>\n",
       "      <td>128</td>\n",
       "      <td>415</td>\n",
       "      <td>382-4657</td>\n",
       "      <td>no</td>\n",
       "      <td>yes</td>\n",
       "      <td>25</td>\n",
       "      <td>265.1</td>\n",
       "      <td>110</td>\n",
       "      <td>45.07</td>\n",
       "      <td>...</td>\n",
       "      <td>99</td>\n",
       "      <td>16.78</td>\n",
       "      <td>244.7</td>\n",
       "      <td>91</td>\n",
       "      <td>11.01</td>\n",
       "      <td>10.0</td>\n",
       "      <td>3</td>\n",
       "      <td>2.70</td>\n",
       "      <td>1</td>\n",
       "      <td>False</td>\n",
       "    </tr>\n",
       "    <tr>\n",
       "      <th>1</th>\n",
       "      <td>OH</td>\n",
       "      <td>107</td>\n",
       "      <td>415</td>\n",
       "      <td>371-7191</td>\n",
       "      <td>no</td>\n",
       "      <td>yes</td>\n",
       "      <td>26</td>\n",
       "      <td>161.6</td>\n",
       "      <td>123</td>\n",
       "      <td>27.47</td>\n",
       "      <td>...</td>\n",
       "      <td>103</td>\n",
       "      <td>16.62</td>\n",
       "      <td>254.4</td>\n",
       "      <td>103</td>\n",
       "      <td>11.45</td>\n",
       "      <td>13.7</td>\n",
       "      <td>3</td>\n",
       "      <td>3.70</td>\n",
       "      <td>1</td>\n",
       "      <td>False</td>\n",
       "    </tr>\n",
       "    <tr>\n",
       "      <th>2</th>\n",
       "      <td>NJ</td>\n",
       "      <td>137</td>\n",
       "      <td>415</td>\n",
       "      <td>358-1921</td>\n",
       "      <td>no</td>\n",
       "      <td>no</td>\n",
       "      <td>0</td>\n",
       "      <td>243.4</td>\n",
       "      <td>114</td>\n",
       "      <td>41.38</td>\n",
       "      <td>...</td>\n",
       "      <td>110</td>\n",
       "      <td>10.30</td>\n",
       "      <td>162.6</td>\n",
       "      <td>104</td>\n",
       "      <td>7.32</td>\n",
       "      <td>12.2</td>\n",
       "      <td>5</td>\n",
       "      <td>3.29</td>\n",
       "      <td>0</td>\n",
       "      <td>False</td>\n",
       "    </tr>\n",
       "    <tr>\n",
       "      <th>3</th>\n",
       "      <td>OH</td>\n",
       "      <td>84</td>\n",
       "      <td>408</td>\n",
       "      <td>375-9999</td>\n",
       "      <td>yes</td>\n",
       "      <td>no</td>\n",
       "      <td>0</td>\n",
       "      <td>299.4</td>\n",
       "      <td>71</td>\n",
       "      <td>50.90</td>\n",
       "      <td>...</td>\n",
       "      <td>88</td>\n",
       "      <td>5.26</td>\n",
       "      <td>196.9</td>\n",
       "      <td>89</td>\n",
       "      <td>8.86</td>\n",
       "      <td>6.6</td>\n",
       "      <td>7</td>\n",
       "      <td>1.78</td>\n",
       "      <td>2</td>\n",
       "      <td>False</td>\n",
       "    </tr>\n",
       "    <tr>\n",
       "      <th>4</th>\n",
       "      <td>OK</td>\n",
       "      <td>75</td>\n",
       "      <td>415</td>\n",
       "      <td>330-6626</td>\n",
       "      <td>yes</td>\n",
       "      <td>no</td>\n",
       "      <td>0</td>\n",
       "      <td>166.7</td>\n",
       "      <td>113</td>\n",
       "      <td>28.34</td>\n",
       "      <td>...</td>\n",
       "      <td>122</td>\n",
       "      <td>12.61</td>\n",
       "      <td>186.9</td>\n",
       "      <td>121</td>\n",
       "      <td>8.41</td>\n",
       "      <td>10.1</td>\n",
       "      <td>3</td>\n",
       "      <td>2.73</td>\n",
       "      <td>3</td>\n",
       "      <td>False</td>\n",
       "    </tr>\n",
       "  </tbody>\n",
       "</table>\n",
       "<p>5 rows × 21 columns</p>\n",
       "</div>"
      ],
      "text/plain": [
       "  state  account length  area code phone number international plan  \\\n",
       "0    KS             128        415     382-4657                 no   \n",
       "1    OH             107        415     371-7191                 no   \n",
       "2    NJ             137        415     358-1921                 no   \n",
       "3    OH              84        408     375-9999                yes   \n",
       "4    OK              75        415     330-6626                yes   \n",
       "\n",
       "  voice mail plan  number vmail messages  total day minutes  total day calls  \\\n",
       "0             yes                     25              265.1              110   \n",
       "1             yes                     26              161.6              123   \n",
       "2              no                      0              243.4              114   \n",
       "3              no                      0              299.4               71   \n",
       "4              no                      0              166.7              113   \n",
       "\n",
       "   total day charge  ...  total eve calls  total eve charge  \\\n",
       "0             45.07  ...               99             16.78   \n",
       "1             27.47  ...              103             16.62   \n",
       "2             41.38  ...              110             10.30   \n",
       "3             50.90  ...               88              5.26   \n",
       "4             28.34  ...              122             12.61   \n",
       "\n",
       "   total night minutes  total night calls  total night charge  \\\n",
       "0                244.7                 91               11.01   \n",
       "1                254.4                103               11.45   \n",
       "2                162.6                104                7.32   \n",
       "3                196.9                 89                8.86   \n",
       "4                186.9                121                8.41   \n",
       "\n",
       "   total intl minutes  total intl calls  total intl charge  \\\n",
       "0                10.0                 3               2.70   \n",
       "1                13.7                 3               3.70   \n",
       "2                12.2                 5               3.29   \n",
       "3                 6.6                 7               1.78   \n",
       "4                10.1                 3               2.73   \n",
       "\n",
       "   customer service calls  churn  \n",
       "0                       1  False  \n",
       "1                       1  False  \n",
       "2                       0  False  \n",
       "3                       2  False  \n",
       "4                       3  False  \n",
       "\n",
       "[5 rows x 21 columns]"
      ]
     },
     "execution_count": 2,
     "metadata": {},
     "output_type": "execute_result"
    }
   ],
   "source": [
    "#Loading the dataset\n",
    "df = pd.read_csv(r\"C:\\Users\\user\\Documents\\Flatiron\\dsc-phase3\\SyriaTel Customer Churn Project\\SyriaTel-Customer-Churn-Classification-Project\\Churn_data.csv\")\n",
    "\n",
    "#Loading the top 5 rows\n",
    "df.head()"
   ]
  },
  {
   "cell_type": "code",
   "execution_count": 3,
   "metadata": {},
   "outputs": [
    {
     "data": {
      "text/plain": [
       "(3333, 21)"
      ]
     },
     "execution_count": 3,
     "metadata": {},
     "output_type": "execute_result"
    }
   ],
   "source": [
    "#Columns Description\n",
    "df.shape"
   ]
  },
  {
   "cell_type": "markdown",
   "metadata": {},
   "source": [
    "**The dataset entails 21 columns and 3333 rows. The columns are explained below:**\n",
    "\n",
    "**1. state:** Represents the state or region where the customer resides. \n",
    "\n",
    "**2. Account length:** This represents the number of months a customer has been with the company.\n",
    "\n",
    "**3. area code:** This is part of the customer's phone number that indicates their region. \n",
    "\n",
    "**4. phone number:** This is a unique identifier for each customer’s phone. \n",
    "\n",
    "**5. international plan:** Indicates whether the customer has an international calling plan. This may help identify whether international usage affects churn.\n",
    "\n",
    "**6. voice mail plan:** Indicates whether the customer subscribes to a voicemail service.\n",
    "\n",
    "**7. Number vmail messages:** The number of voicemail messages left by the customer. \n",
    "\n",
    "**8. Total day minutes:** The total number of minutes a customer spends on calls during the day. \n",
    "\n",
    "**9. Total day calls:** The total number of calls made during the day. \n",
    "\n",
    "**10. Total day charge:** The total cost of the customer's calls during the day. \n",
    "\n",
    "**11. Total eve calls:** The total number of calls made during the evening. \n",
    "\n",
    "**12. Total eve charge:** The total cost of calls made during the evening. \n",
    "\n",
    "**13. Total night minutes:** The total number of minutes spent on calls during the night. \n",
    "\n",
    "**14. Total night calls:** The total number of calls made during the night. \n",
    "\n",
    "**15. Total night charge:** The total cost of calls made during the night. \n",
    "\n",
    "**16. Total intl minutes:** The total number of minutes spent on international calls. \n",
    "\n",
    "**17. Total intl calls:** The total number of international calls made by the customer. \n",
    "\n",
    "**18. Total intl charge:** The total cost of international calls. \n",
    "\n",
    "**19. customer service calls:** The number of calls made by the customer to the customer service department. A high number may indicate issues or dissatisfaction.\n",
    "\n",
    "**20. churn:** This is the target variable, indicating whether the customer has churned (True) or not (False). "
   ]
  },
  {
   "cell_type": "markdown",
   "metadata": {},
   "source": [
    "## Data Preparation and Cleaning"
   ]
  },
  {
   "cell_type": "code",
   "execution_count": 4,
   "metadata": {},
   "outputs": [
    {
     "name": "stdout",
     "output_type": "stream",
     "text": [
      "<class 'pandas.core.frame.DataFrame'>\n",
      "RangeIndex: 3333 entries, 0 to 3332\n",
      "Data columns (total 21 columns):\n",
      " #   Column                  Non-Null Count  Dtype  \n",
      "---  ------                  --------------  -----  \n",
      " 0   state                   3333 non-null   object \n",
      " 1   account length          3333 non-null   int64  \n",
      " 2   area code               3333 non-null   int64  \n",
      " 3   phone number            3333 non-null   object \n",
      " 4   international plan      3333 non-null   object \n",
      " 5   voice mail plan         3333 non-null   object \n",
      " 6   number vmail messages   3333 non-null   int64  \n",
      " 7   total day minutes       3333 non-null   float64\n",
      " 8   total day calls         3333 non-null   int64  \n",
      " 9   total day charge        3333 non-null   float64\n",
      " 10  total eve minutes       3333 non-null   float64\n",
      " 11  total eve calls         3333 non-null   int64  \n",
      " 12  total eve charge        3333 non-null   float64\n",
      " 13  total night minutes     3333 non-null   float64\n",
      " 14  total night calls       3333 non-null   int64  \n",
      " 15  total night charge      3333 non-null   float64\n",
      " 16  total intl minutes      3333 non-null   float64\n",
      " 17  total intl calls        3333 non-null   int64  \n",
      " 18  total intl charge       3333 non-null   float64\n",
      " 19  customer service calls  3333 non-null   int64  \n",
      " 20  churn                   3333 non-null   bool   \n",
      "dtypes: bool(1), float64(8), int64(8), object(4)\n",
      "memory usage: 524.2+ KB\n",
      "None \n",
      "\n",
      "-------------nulls---------\n",
      "state                     0\n",
      "account length            0\n",
      "area code                 0\n",
      "phone number              0\n",
      "international plan        0\n",
      "voice mail plan           0\n",
      "number vmail messages     0\n",
      "total day minutes         0\n",
      "total day calls           0\n",
      "total day charge          0\n",
      "total eve minutes         0\n",
      "total eve calls           0\n",
      "total eve charge          0\n",
      "total night minutes       0\n",
      "total night calls         0\n",
      "total night charge        0\n",
      "total intl minutes        0\n",
      "total intl calls          0\n",
      "total intl charge         0\n",
      "customer service calls    0\n",
      "churn                     0\n",
      "dtype: int64,\n",
      "\n",
      "-------------duplicates--------\n",
      "0\n"
     ]
    }
   ],
   "source": [
    "# A function to inspect the dataframe shape, datatype and missing values\n",
    "\n",
    "def inspection(Df):\n",
    "    #The datatypes and shape of each column\n",
    "    info=Df.info()\n",
    "    #The nulls in the dataset\n",
    "    nulls=Df.isnull().sum()\n",
    "    #Checking for duplicates\n",
    "    duplicate=Df.duplicated().sum()\n",
    "    return info,nulls,duplicate\n",
    "info,nulls,duplicate=inspection(df)\n",
    "print(info,'\\n')\n",
    "print(f'-------------nulls---------\\n{nulls},\\n')\n",
    "print(f'-------------duplicates--------\\n{duplicate}')"
   ]
  },
  {
   "cell_type": "markdown",
   "metadata": {},
   "source": [
    "1. The dataset has no null values.\n",
    "2. Most of the datasets are numeric with only afew categorical which will call for one-hot-encoding.\n",
    "3. There are no duplicates in the dataset."
   ]
  },
  {
   "cell_type": "code",
   "execution_count": 5,
   "metadata": {},
   "outputs": [
    {
     "data": {
      "text/plain": [
       "'\\nThe phone number column was dropped because it does not provide significant value for the analysis. \\nThe area code, which is already present as a separate column, captures the geographic location of the customer, \\nmaking the phone number redundant.\\n'"
      ]
     },
     "execution_count": 5,
     "metadata": {},
     "output_type": "execute_result"
    }
   ],
   "source": [
    "#Dropping the phone no column\n",
    "df.drop(columns=['phone number'],index=1,inplace=True)\n",
    "\n",
    "\"\"\"\n",
    "The phone number column was dropped because it does not provide significant value for the analysis. \n",
    "The area code, which is already present as a separate column, captures the geographic location of the customer, \n",
    "making the phone number redundant.\n",
    "\"\"\""
   ]
  },
  {
   "cell_type": "code",
   "execution_count": 6,
   "metadata": {},
   "outputs": [
    {
     "data": {
      "text/html": [
       "<div>\n",
       "<style scoped>\n",
       "    .dataframe tbody tr th:only-of-type {\n",
       "        vertical-align: middle;\n",
       "    }\n",
       "\n",
       "    .dataframe tbody tr th {\n",
       "        vertical-align: top;\n",
       "    }\n",
       "\n",
       "    .dataframe thead th {\n",
       "        text-align: right;\n",
       "    }\n",
       "</style>\n",
       "<table border=\"1\" class=\"dataframe\">\n",
       "  <thead>\n",
       "    <tr style=\"text-align: right;\">\n",
       "      <th></th>\n",
       "      <th>state</th>\n",
       "      <th>account length</th>\n",
       "      <th>area code</th>\n",
       "      <th>international plan</th>\n",
       "      <th>voice mail plan</th>\n",
       "      <th>number vmail messages</th>\n",
       "      <th>total day minutes</th>\n",
       "      <th>total day calls</th>\n",
       "      <th>total day charge</th>\n",
       "      <th>total eve minutes</th>\n",
       "      <th>total eve calls</th>\n",
       "      <th>total eve charge</th>\n",
       "      <th>total night minutes</th>\n",
       "      <th>total night calls</th>\n",
       "      <th>total night charge</th>\n",
       "      <th>total intl minutes</th>\n",
       "      <th>total intl calls</th>\n",
       "      <th>total intl charge</th>\n",
       "      <th>customer service calls</th>\n",
       "      <th>churn</th>\n",
       "    </tr>\n",
       "  </thead>\n",
       "  <tbody>\n",
       "    <tr>\n",
       "      <th>0</th>\n",
       "      <td>KS</td>\n",
       "      <td>128</td>\n",
       "      <td>415</td>\n",
       "      <td>no</td>\n",
       "      <td>yes</td>\n",
       "      <td>25</td>\n",
       "      <td>265.1</td>\n",
       "      <td>110</td>\n",
       "      <td>45.07</td>\n",
       "      <td>197.4</td>\n",
       "      <td>99</td>\n",
       "      <td>16.78</td>\n",
       "      <td>244.7</td>\n",
       "      <td>91</td>\n",
       "      <td>11.01</td>\n",
       "      <td>10.0</td>\n",
       "      <td>3</td>\n",
       "      <td>2.70</td>\n",
       "      <td>1</td>\n",
       "      <td>False</td>\n",
       "    </tr>\n",
       "    <tr>\n",
       "      <th>2</th>\n",
       "      <td>NJ</td>\n",
       "      <td>137</td>\n",
       "      <td>415</td>\n",
       "      <td>no</td>\n",
       "      <td>no</td>\n",
       "      <td>0</td>\n",
       "      <td>243.4</td>\n",
       "      <td>114</td>\n",
       "      <td>41.38</td>\n",
       "      <td>121.2</td>\n",
       "      <td>110</td>\n",
       "      <td>10.30</td>\n",
       "      <td>162.6</td>\n",
       "      <td>104</td>\n",
       "      <td>7.32</td>\n",
       "      <td>12.2</td>\n",
       "      <td>5</td>\n",
       "      <td>3.29</td>\n",
       "      <td>0</td>\n",
       "      <td>False</td>\n",
       "    </tr>\n",
       "    <tr>\n",
       "      <th>3</th>\n",
       "      <td>OH</td>\n",
       "      <td>84</td>\n",
       "      <td>408</td>\n",
       "      <td>yes</td>\n",
       "      <td>no</td>\n",
       "      <td>0</td>\n",
       "      <td>299.4</td>\n",
       "      <td>71</td>\n",
       "      <td>50.90</td>\n",
       "      <td>61.9</td>\n",
       "      <td>88</td>\n",
       "      <td>5.26</td>\n",
       "      <td>196.9</td>\n",
       "      <td>89</td>\n",
       "      <td>8.86</td>\n",
       "      <td>6.6</td>\n",
       "      <td>7</td>\n",
       "      <td>1.78</td>\n",
       "      <td>2</td>\n",
       "      <td>False</td>\n",
       "    </tr>\n",
       "    <tr>\n",
       "      <th>4</th>\n",
       "      <td>OK</td>\n",
       "      <td>75</td>\n",
       "      <td>415</td>\n",
       "      <td>yes</td>\n",
       "      <td>no</td>\n",
       "      <td>0</td>\n",
       "      <td>166.7</td>\n",
       "      <td>113</td>\n",
       "      <td>28.34</td>\n",
       "      <td>148.3</td>\n",
       "      <td>122</td>\n",
       "      <td>12.61</td>\n",
       "      <td>186.9</td>\n",
       "      <td>121</td>\n",
       "      <td>8.41</td>\n",
       "      <td>10.1</td>\n",
       "      <td>3</td>\n",
       "      <td>2.73</td>\n",
       "      <td>3</td>\n",
       "      <td>False</td>\n",
       "    </tr>\n",
       "    <tr>\n",
       "      <th>5</th>\n",
       "      <td>AL</td>\n",
       "      <td>118</td>\n",
       "      <td>510</td>\n",
       "      <td>yes</td>\n",
       "      <td>no</td>\n",
       "      <td>0</td>\n",
       "      <td>223.4</td>\n",
       "      <td>98</td>\n",
       "      <td>37.98</td>\n",
       "      <td>220.6</td>\n",
       "      <td>101</td>\n",
       "      <td>18.75</td>\n",
       "      <td>203.9</td>\n",
       "      <td>118</td>\n",
       "      <td>9.18</td>\n",
       "      <td>6.3</td>\n",
       "      <td>6</td>\n",
       "      <td>1.70</td>\n",
       "      <td>0</td>\n",
       "      <td>False</td>\n",
       "    </tr>\n",
       "  </tbody>\n",
       "</table>\n",
       "</div>"
      ],
      "text/plain": [
       "  state  account length  area code international plan voice mail plan  \\\n",
       "0    KS             128        415                 no             yes   \n",
       "2    NJ             137        415                 no              no   \n",
       "3    OH              84        408                yes              no   \n",
       "4    OK              75        415                yes              no   \n",
       "5    AL             118        510                yes              no   \n",
       "\n",
       "   number vmail messages  total day minutes  total day calls  \\\n",
       "0                     25              265.1              110   \n",
       "2                      0              243.4              114   \n",
       "3                      0              299.4               71   \n",
       "4                      0              166.7              113   \n",
       "5                      0              223.4               98   \n",
       "\n",
       "   total day charge  total eve minutes  total eve calls  total eve charge  \\\n",
       "0             45.07              197.4               99             16.78   \n",
       "2             41.38              121.2              110             10.30   \n",
       "3             50.90               61.9               88              5.26   \n",
       "4             28.34              148.3              122             12.61   \n",
       "5             37.98              220.6              101             18.75   \n",
       "\n",
       "   total night minutes  total night calls  total night charge  \\\n",
       "0                244.7                 91               11.01   \n",
       "2                162.6                104                7.32   \n",
       "3                196.9                 89                8.86   \n",
       "4                186.9                121                8.41   \n",
       "5                203.9                118                9.18   \n",
       "\n",
       "   total intl minutes  total intl calls  total intl charge  \\\n",
       "0                10.0                 3               2.70   \n",
       "2                12.2                 5               3.29   \n",
       "3                 6.6                 7               1.78   \n",
       "4                10.1                 3               2.73   \n",
       "5                 6.3                 6               1.70   \n",
       "\n",
       "   customer service calls  churn  \n",
       "0                       1  False  \n",
       "2                       0  False  \n",
       "3                       2  False  \n",
       "4                       3  False  \n",
       "5                       0  False  "
      ]
     },
     "execution_count": 6,
     "metadata": {},
     "output_type": "execute_result"
    }
   ],
   "source": [
    "#Confirming if the column was dropped\n",
    "df.head()"
   ]
  },
  {
   "cell_type": "code",
   "execution_count": 7,
   "metadata": {},
   "outputs": [
    {
     "data": {
      "text/html": [
       "<div>\n",
       "<style scoped>\n",
       "    .dataframe tbody tr th:only-of-type {\n",
       "        vertical-align: middle;\n",
       "    }\n",
       "\n",
       "    .dataframe tbody tr th {\n",
       "        vertical-align: top;\n",
       "    }\n",
       "\n",
       "    .dataframe thead th {\n",
       "        text-align: right;\n",
       "    }\n",
       "</style>\n",
       "<table border=\"1\" class=\"dataframe\">\n",
       "  <thead>\n",
       "    <tr style=\"text-align: right;\">\n",
       "      <th></th>\n",
       "      <th>account length</th>\n",
       "      <th>area code</th>\n",
       "      <th>number vmail messages</th>\n",
       "      <th>total day minutes</th>\n",
       "      <th>total day calls</th>\n",
       "      <th>total day charge</th>\n",
       "      <th>total eve minutes</th>\n",
       "      <th>total eve calls</th>\n",
       "      <th>total eve charge</th>\n",
       "      <th>total night minutes</th>\n",
       "      <th>total night calls</th>\n",
       "      <th>total night charge</th>\n",
       "      <th>total intl minutes</th>\n",
       "      <th>total intl calls</th>\n",
       "      <th>total intl charge</th>\n",
       "      <th>customer service calls</th>\n",
       "    </tr>\n",
       "  </thead>\n",
       "  <tbody>\n",
       "    <tr>\n",
       "      <th>count</th>\n",
       "      <td>3332.000000</td>\n",
       "      <td>3332.000000</td>\n",
       "      <td>3332.000000</td>\n",
       "      <td>3332.000000</td>\n",
       "      <td>3332.000000</td>\n",
       "      <td>3332.000000</td>\n",
       "      <td>3332.000000</td>\n",
       "      <td>3332.000000</td>\n",
       "      <td>3332.000000</td>\n",
       "      <td>3332.000000</td>\n",
       "      <td>3332.000000</td>\n",
       "      <td>3332.000000</td>\n",
       "      <td>3332.000000</td>\n",
       "      <td>3332.000000</td>\n",
       "      <td>3332.000000</td>\n",
       "      <td>3332.000000</td>\n",
       "    </tr>\n",
       "    <tr>\n",
       "      <th>mean</th>\n",
       "      <td>101.063025</td>\n",
       "      <td>437.189076</td>\n",
       "      <td>8.093637</td>\n",
       "      <td>179.780552</td>\n",
       "      <td>100.428872</td>\n",
       "      <td>30.563235</td>\n",
       "      <td>200.981993</td>\n",
       "      <td>100.113445</td>\n",
       "      <td>17.083679</td>\n",
       "      <td>200.855972</td>\n",
       "      <td>100.106843</td>\n",
       "      <td>9.038601</td>\n",
       "      <td>10.236255</td>\n",
       "      <td>4.479892</td>\n",
       "      <td>2.764301</td>\n",
       "      <td>1.563025</td>\n",
       "    </tr>\n",
       "    <tr>\n",
       "      <th>std</th>\n",
       "      <td>39.827950</td>\n",
       "      <td>42.375907</td>\n",
       "      <td>13.686905</td>\n",
       "      <td>54.474654</td>\n",
       "      <td>20.068287</td>\n",
       "      <td>9.260669</td>\n",
       "      <td>50.721367</td>\n",
       "      <td>19.925553</td>\n",
       "      <td>4.311307</td>\n",
       "      <td>50.572932</td>\n",
       "      <td>19.571482</td>\n",
       "      <td>2.275831</td>\n",
       "      <td>2.791614</td>\n",
       "      <td>2.461450</td>\n",
       "      <td>0.753711</td>\n",
       "      <td>1.315652</td>\n",
       "    </tr>\n",
       "    <tr>\n",
       "      <th>min</th>\n",
       "      <td>1.000000</td>\n",
       "      <td>408.000000</td>\n",
       "      <td>0.000000</td>\n",
       "      <td>0.000000</td>\n",
       "      <td>0.000000</td>\n",
       "      <td>0.000000</td>\n",
       "      <td>0.000000</td>\n",
       "      <td>0.000000</td>\n",
       "      <td>0.000000</td>\n",
       "      <td>23.200000</td>\n",
       "      <td>33.000000</td>\n",
       "      <td>1.040000</td>\n",
       "      <td>0.000000</td>\n",
       "      <td>0.000000</td>\n",
       "      <td>0.000000</td>\n",
       "      <td>0.000000</td>\n",
       "    </tr>\n",
       "    <tr>\n",
       "      <th>25%</th>\n",
       "      <td>74.000000</td>\n",
       "      <td>408.000000</td>\n",
       "      <td>0.000000</td>\n",
       "      <td>143.675000</td>\n",
       "      <td>87.000000</td>\n",
       "      <td>24.425000</td>\n",
       "      <td>166.600000</td>\n",
       "      <td>87.000000</td>\n",
       "      <td>14.160000</td>\n",
       "      <td>167.000000</td>\n",
       "      <td>87.000000</td>\n",
       "      <td>7.520000</td>\n",
       "      <td>8.500000</td>\n",
       "      <td>3.000000</td>\n",
       "      <td>2.300000</td>\n",
       "      <td>1.000000</td>\n",
       "    </tr>\n",
       "    <tr>\n",
       "      <th>50%</th>\n",
       "      <td>101.000000</td>\n",
       "      <td>415.000000</td>\n",
       "      <td>0.000000</td>\n",
       "      <td>179.400000</td>\n",
       "      <td>101.000000</td>\n",
       "      <td>30.500000</td>\n",
       "      <td>201.400000</td>\n",
       "      <td>100.000000</td>\n",
       "      <td>17.120000</td>\n",
       "      <td>201.150000</td>\n",
       "      <td>100.000000</td>\n",
       "      <td>9.050000</td>\n",
       "      <td>10.300000</td>\n",
       "      <td>4.000000</td>\n",
       "      <td>2.780000</td>\n",
       "      <td>1.000000</td>\n",
       "    </tr>\n",
       "    <tr>\n",
       "      <th>75%</th>\n",
       "      <td>127.000000</td>\n",
       "      <td>510.000000</td>\n",
       "      <td>20.000000</td>\n",
       "      <td>216.450000</td>\n",
       "      <td>114.000000</td>\n",
       "      <td>36.797500</td>\n",
       "      <td>235.300000</td>\n",
       "      <td>114.000000</td>\n",
       "      <td>20.000000</td>\n",
       "      <td>235.300000</td>\n",
       "      <td>113.000000</td>\n",
       "      <td>10.590000</td>\n",
       "      <td>12.100000</td>\n",
       "      <td>6.000000</td>\n",
       "      <td>3.270000</td>\n",
       "      <td>2.000000</td>\n",
       "    </tr>\n",
       "    <tr>\n",
       "      <th>max</th>\n",
       "      <td>243.000000</td>\n",
       "      <td>510.000000</td>\n",
       "      <td>51.000000</td>\n",
       "      <td>350.800000</td>\n",
       "      <td>165.000000</td>\n",
       "      <td>59.640000</td>\n",
       "      <td>363.700000</td>\n",
       "      <td>170.000000</td>\n",
       "      <td>30.910000</td>\n",
       "      <td>395.000000</td>\n",
       "      <td>175.000000</td>\n",
       "      <td>17.770000</td>\n",
       "      <td>20.000000</td>\n",
       "      <td>20.000000</td>\n",
       "      <td>5.400000</td>\n",
       "      <td>9.000000</td>\n",
       "    </tr>\n",
       "  </tbody>\n",
       "</table>\n",
       "</div>"
      ],
      "text/plain": [
       "       account length    area code  number vmail messages  total day minutes  \\\n",
       "count     3332.000000  3332.000000            3332.000000        3332.000000   \n",
       "mean       101.063025   437.189076               8.093637         179.780552   \n",
       "std         39.827950    42.375907              13.686905          54.474654   \n",
       "min          1.000000   408.000000               0.000000           0.000000   \n",
       "25%         74.000000   408.000000               0.000000         143.675000   \n",
       "50%        101.000000   415.000000               0.000000         179.400000   \n",
       "75%        127.000000   510.000000              20.000000         216.450000   \n",
       "max        243.000000   510.000000              51.000000         350.800000   \n",
       "\n",
       "       total day calls  total day charge  total eve minutes  total eve calls  \\\n",
       "count      3332.000000       3332.000000        3332.000000      3332.000000   \n",
       "mean        100.428872         30.563235         200.981993       100.113445   \n",
       "std          20.068287          9.260669          50.721367        19.925553   \n",
       "min           0.000000          0.000000           0.000000         0.000000   \n",
       "25%          87.000000         24.425000         166.600000        87.000000   \n",
       "50%         101.000000         30.500000         201.400000       100.000000   \n",
       "75%         114.000000         36.797500         235.300000       114.000000   \n",
       "max         165.000000         59.640000         363.700000       170.000000   \n",
       "\n",
       "       total eve charge  total night minutes  total night calls  \\\n",
       "count       3332.000000          3332.000000        3332.000000   \n",
       "mean          17.083679           200.855972         100.106843   \n",
       "std            4.311307            50.572932          19.571482   \n",
       "min            0.000000            23.200000          33.000000   \n",
       "25%           14.160000           167.000000          87.000000   \n",
       "50%           17.120000           201.150000         100.000000   \n",
       "75%           20.000000           235.300000         113.000000   \n",
       "max           30.910000           395.000000         175.000000   \n",
       "\n",
       "       total night charge  total intl minutes  total intl calls  \\\n",
       "count         3332.000000         3332.000000       3332.000000   \n",
       "mean             9.038601           10.236255          4.479892   \n",
       "std              2.275831            2.791614          2.461450   \n",
       "min              1.040000            0.000000          0.000000   \n",
       "25%              7.520000            8.500000          3.000000   \n",
       "50%              9.050000           10.300000          4.000000   \n",
       "75%             10.590000           12.100000          6.000000   \n",
       "max             17.770000           20.000000         20.000000   \n",
       "\n",
       "       total intl charge  customer service calls  \n",
       "count        3332.000000             3332.000000  \n",
       "mean            2.764301                1.563025  \n",
       "std             0.753711                1.315652  \n",
       "min             0.000000                0.000000  \n",
       "25%             2.300000                1.000000  \n",
       "50%             2.780000                1.000000  \n",
       "75%             3.270000                2.000000  \n",
       "max             5.400000                9.000000  "
      ]
     },
     "execution_count": 7,
     "metadata": {},
     "output_type": "execute_result"
    }
   ],
   "source": [
    "#Summary statistics of my data\n",
    "df.describe()"
   ]
  },
  {
   "cell_type": "markdown",
   "metadata": {},
   "source": [
    "1. The average account length is 101 months that is approximately 8 years with the longest being 20 years and the least being 1 month.\n",
    "2. On average the number of voicemail messages most customers have is 8 messages with some randing from 0 to 51.\n",
    "3. The total minutes a customer spends in a day is 179 minutes approximately, 3hours, with the minutes ranging from 0 to 350.\n",
    "4. The average calls in a day by a customer are usually 100 calls ith the least being 0 and the highest calls being 165.\n",
    "5. The average day charge for a call is 30 US Dollars with the cost ranging from 0 to 60 dollars during the day.\n",
    "6. The average minutes for evening and night calls are usually 200 with an average of 100 calls.\n",
    "7. The cahrges for evening calls are mostly 17 US dollars, with the maximum being 30 USD dollars. While those of night calls seems to drop with most of them charged at 9 US dollars and the highest charged being 17 US Dollars.\n",
    "8. International calls seems to drop with average of 4 total calls in a day as well as the least charge.\n",
    "9. Lastly, customer service calls seems to be on average 2 calls in a day."
   ]
  },
  {
   "cell_type": "code",
   "execution_count": 8,
   "metadata": {},
   "outputs": [
    {
     "data": {
      "image/png": "[encoded data removed]",
      "text/plain": [
       "<Figure size 1080x720 with 16 Axes>"
      ]
     },
     "metadata": {
      "needs_background": "light"
     },
     "output_type": "display_data"
    }
   ],
   "source": [
    "#Checking for outliers\n",
    "numeric_columns = df[['account length','area code','number vmail messages','total day minutes','total day calls','total day charge',\n",
    "                      'total eve minutes','total eve calls','total eve charge','total night minutes','total night calls',\n",
    "                      'total night charge','total intl minutes','total intl calls','total intl charge','customer service calls']]\n",
    "\n",
    "# Creating subplots\n",
    "fig, axes = plt.subplots(4, 4, figsize=(15, 10))\n",
    "\n",
    "# Flatten axes array for easy iteration\n",
    "axes = axes.flatten()\n",
    "\n",
    "# Looping through each column and plotting in the respective subplot\n",
    "for i, col in enumerate(numeric_columns):\n",
    "    sns.boxplot(x=df[col], ax=axes[i])  \n",
    "    axes[i].set_title(f'Boxplot of {col}')  \n",
    "\n",
    "# Adjust layout for better spacing\n",
    "plt.tight_layout()\n",
    "\n",
    "# Show the plots\n",
    "plt.show()"
   ]
  },
  {
   "cell_type": "markdown",
   "metadata": {},
   "source": [
    "- All the numerical columns depicts to have outliers **except the Area Code Column**. The cell below involves dropping outliers to enhance the performance my models by reducing overfitting and underfitting. By removing extreme values, I aim to improve the model's ability to generalize, ensuring it performs well on unseen data. Additionally, outliers can introduce bias in the analysis, leading to skewed conclusions that may not reflect the true patterns in the data. This approach ensures more accurate predictions and more reliable insights."
   ]
  },
  {
   "cell_type": "code",
   "execution_count": 9,
   "metadata": {},
   "outputs": [
    {
     "name": "stdout",
     "output_type": "stream",
     "text": [
      "(2796, 20)\n"
     ]
    }
   ],
   "source": [
    "#Dropping outliers\n",
    "columns_to_check = df[['account length','number vmail messages','total day minutes','total day calls','total day charge',\n",
    "                      'total eve minutes','total eve calls','total eve charge','total night minutes','total night calls',\n",
    "                      'total night charge','total intl minutes','total intl calls','total intl charge','customer service calls']]\n",
    "\n",
    "# Filtering outliers using IQR\n",
    "def filter_outliers_iqr(df, columns):\n",
    "    for col in columns:\n",
    "        Q1, Q3 = df[col].quantile([0.25, 0.75])\n",
    "        IQR = Q3 - Q1\n",
    "        lower_bound = Q1 - 1.5 * IQR\n",
    "        upper_bound = Q3 + 1.5 * IQR\n",
    "        df = df[df[col].between(lower_bound, upper_bound)]\n",
    "    return df\n",
    "\n",
    "# Applying to specific columns\n",
    "df= filter_outliers_iqr(df, columns_to_check)\n",
    "print(df.shape)"
   ]
  },
  {
   "cell_type": "markdown",
   "metadata": {},
   "source": [
    "**- Before dropping outliers the dataset had 3333 rows. After dropping the outliers the number of rows reduced to 2796.** resulting in a loss of **approximately 16%** of the dataset. While this reduction might seem significant, it was necessary to remove extreme values that could distort the model's performance and lead to biased conclusions. The remaining data should now provide a more accurate representation of the underlying patterns. "
   ]
  },
  {
   "cell_type": "code",
   "execution_count": 10,
   "metadata": {
    "scrolled": true
   },
   "outputs": [
    {
     "data": {
      "image/png": "[encoded data removed]",
      "text/plain": [
       "<Figure size 1008x720 with 16 Axes>"
      ]
     },
     "metadata": {
      "needs_background": "light"
     },
     "output_type": "display_data"
    }
   ],
   "source": [
    "#Inspecting the distribution of my data\n",
    "numeric_columns = df[['account length','area code','number vmail messages','total day minutes','total day calls','total day charge',\n",
    "                      'total eve minutes','total eve calls','total eve charge','total night minutes','total night calls',\n",
    "                      'total night charge','total intl minutes','total intl calls','total intl charge','customer service calls']]\n",
    "# Create 4x4 grid of subplots\n",
    "fig, axes = plt.subplots(4, 4, figsize=(14,10))\n",
    "\n",
    "# Flatten axes array for easy iteration\n",
    "axes = axes.flatten()\n",
    "\n",
    "# Looping through each column and plotting in the respective subplot\n",
    "for i, col in enumerate(numeric_columns):\n",
    "    sns.histplot(x=df[col], ax=axes[i])  \n",
    "    axes[i].set_title(f'Distribution of {col}')  \n",
    "\n",
    "# Adjust layout for better spacing\n",
    "plt.tight_layout()\n",
    "\n",
    "# Show the plots\n",
    "plt.show()"
   ]
  },
  {
   "cell_type": "markdown",
   "metadata": {},
   "source": [
    "Most of the columns in the dataset are normally distributed with an exception of the Area Code column, number of VMail Messages, total international Calls and customer Service calls.\n",
    "1. For the Area Code column it's acceptable for the distribution to appear that way because Area codes are typically assigned geographically. The column had only three unique area codes (408, 415, and 510)so it's not surprising to see a limited number of them in a dataset.\n",
    "\n",
    "2. The voicemail message distribution is right-skewed implying that most customers have a low number of messages, but a few customers have significantly higher usage.\n",
    "\n",
    "3. The total international calls distribution appears to be right-skewed. This indicates that most customers have a smaller number of international calls, with a few having significantly higher numbers.\n",
    "\n",
    "4. The distribution of the customer service calls appears to be right-skewed. This indicates that most customers have a smaller number of international calls, with a few having significantly higher numbers.\n",
    "\n",
    "**Since the non-normally distributed columns are right skewed, we will apply log transformation to compress the range of this data.**"
   ]
  },
  {
   "cell_type": "code",
   "execution_count": 11,
   "metadata": {},
   "outputs": [
    {
     "data": {
      "image/png": "[encoded data removed]",
      "text/plain": [
       "<Figure size 864x576 with 3 Axes>"
      ]
     },
     "metadata": {
      "needs_background": "light"
     },
     "output_type": "display_data"
    }
   ],
   "source": [
    "# Applying log transformation to the right-skewed column\n",
    "skewed_columns=df[['number vmail messages','total intl calls','customer service calls']]\n",
    "\n",
    "# Set up the plot size for easy comparison\n",
    "plt.figure(figsize=(12, 8))\n",
    "\n",
    "#Looping through each column\n",
    "for col in skewed_columns:\n",
    "    df[col] = np.log1p(df[col])\n",
    "\n",
    "    # Plotting the original and transformed data for comparison\n",
    "    plt.subplot(2, 3, skewed_columns.columns.get_loc(col) + 1)  # For arranging subplots\n",
    "    sns.histplot(df[col], kde=True)\n",
    "    plt.title(f\"Log Transformed: {col}\")\n",
    "\n",
    "# Display the plots\n",
    "plt.tight_layout()\n",
    "plt.show()\n",
    "\n"
   ]
  },
  {
   "cell_type": "markdown",
   "metadata": {},
   "source": [
    "After applying the log transformation, the **\"total international calls\" column approaches a normal distribution,** whereas the **\"customer service calls\" and \"vmail messages\" columns do not show significant improvement**. Further transformations will be explored to optimize these columns. Additionally, steps such as feature selection and scaling will be performed to ensure the dataset is prepared and ready for modeling."
   ]
  },
  {
   "cell_type": "markdown",
   "metadata": {},
   "source": [
    "## Exploratory Data Analysis"
   ]
  },
  {
   "cell_type": "markdown",
   "metadata": {},
   "source": [
    "**1. To Identify Churn Rates by Region and which Region is highly affected**"
   ]
  },
  {
   "cell_type": "code",
   "execution_count": 12,
   "metadata": {
    "scrolled": true
   },
   "outputs": [
    {
     "data": {
      "image/png": "[encoded data removed]",
      "text/plain": [
       "<Figure size 432x288 with 1 Axes>"
      ]
     },
     "metadata": {
      "needs_background": "light"
     },
     "output_type": "display_data"
    }
   ],
   "source": [
    "#Grouping the churn and area code\n",
    "churn_rate_by_area_code = df.groupby('area code').churn.mean()\n",
    "\n",
    "plt.figure(figsize=(6, 4))\n",
    "\n",
    "# Creating a bar plot\n",
    "sns.barplot(x=churn_rate_by_area_code.index, y=churn_rate_by_area_code.values,color='skyblue')\n",
    "\n",
    "# Customizing the plot\n",
    "plt.title('Churn Rates by Area Code')\n",
    "plt.xlabel('Area Code')\n",
    "plt.ylabel('Churn Rate')\n",
    "plt.xticks(rotation=45)  \n",
    "plt.tight_layout()  \n",
    "\n",
    "#Save the plot image\n",
    "plt.savefig('Churns by Region')\n",
    "\n",
    "# Show the plot\n",
    "plt.show()"
   ]
  },
  {
   "cell_type": "markdown",
   "metadata": {},
   "source": [
    "**Findings**\n",
    "\n",
    "- Area Code 408, presents to have the highest Churn Rate followed by 510 then 415. \n",
    "\n",
    "The high churn rate in the 408 region would indicate that many customers are leaving, often due to dissatisfaction with the product, service, or competition. It signals potential issues that need to be addressed, such as poor customer support, product quality, or regional service gaps. Immediate action is required to understand the cause and improve customer retention, as high churn can lead to lost revenue and increased acquisition costs."
   ]
  },
  {
   "cell_type": "markdown",
   "metadata": {},
   "source": [
    "**2. To examine the impact of Account Length on Churn. Which customesrs are highly prone to attrition.**"
   ]
  },
  {
   "cell_type": "code",
   "execution_count": 13,
   "metadata": {
    "scrolled": true
   },
   "outputs": [
    {
     "data": {
      "image/png": "[encoded data removed]",
      "text/plain": [
       "<Figure size 432x288 with 1 Axes>"
      ]
     },
     "metadata": {
      "needs_background": "light"
     },
     "output_type": "display_data"
    }
   ],
   "source": [
    "# Defining fixed thresholds based on account length range (1 to 243 months)\n",
    "short_term_threshold = 81  # 33% of 243 months\n",
    "long_term_threshold = 162  # 66% of 243 months\n",
    "\n",
    "# Create a new column to classify clients based on account length into 3 groups\n",
    "client_type = df['account length'].apply(\n",
    "    lambda x: 'Short-term' if x <= short_term_threshold else \n",
    "              ('Mid-term' if x <= long_term_threshold else 'Long-term')\n",
    ")\n",
    "\n",
    "# Creating a new DataFrame with the client_type without modifying the original DataFrame\n",
    "churn_by_client_type = df.assign(client_type=client_type).groupby('client_type')['churn'].mean()\n",
    "\n",
    "# Sort churn_by_client_type in descending order\n",
    "churn_by_client_type_sorted = churn_by_client_type.sort_values(ascending=False)\n",
    "\n",
    "# Plot the churn rate by client type\n",
    "churn_by_client_type_sorted.plot(kind='barh',color='skyblue',figsize=(6, 4))\n",
    "plt.title('Churn Rate by Client Type')\n",
    "plt.ylabel('Client Type')\n",
    "plt.xlabel('Churn Rate')\n",
    "plt.xticks(rotation=0)\n",
    "\n",
    "\n",
    "#Save the plot image\n",
    "plt.savefig('Churns by account length')\n",
    "\n",
    "#Plot the figure\n",
    "plt.show()"
   ]
  },
  {
   "cell_type": "code",
   "execution_count": 14,
   "metadata": {},
   "outputs": [
    {
     "name": "stdout",
     "output_type": "stream",
     "text": [
      "client_type\n",
      "Long-term     0.112426\n",
      "Short-term    0.111857\n",
      "Mid-term      0.106751\n",
      "Name: churn, dtype: float64\n"
     ]
    }
   ],
   "source": [
    "#Confirming the values for each client type\n",
    "print(churn_by_client_type_sorted)"
   ]
  },
  {
   "cell_type": "markdown",
   "metadata": {},
   "source": [
    "**Findings**\n",
    "\n",
    "After grouping the account length column depending on the months the client has been a customer, I came up with three succinct groups.\n",
    "\n",
    "**a).Short term (Customers who have been in the company for 7years and below)**\n",
    "These customers present to have the second-highest churn rate, suggesting that short-term clients churn quickly due to unmet expectations or dissatisfaction with the initial service experience.\n",
    "\n",
    "**b).Mid-term(Customers who have been in the company between 7 years and 14 years)**\n",
    "\n",
    "These customers exhibit the lowest churn rate, which may indicate better retention in this segment compared to long-term and short-term clients.\n",
    "\n",
    "**c).Long-term(Customers who have been in the company for more than 14 years with the maximum been 21 years)**\n",
    "\n",
    "This group presents to have the highest churn, which may suggest that long-term clients are dissatisfied maybe due to lack of innovation or feeling undervalued after prolonged use.\n",
    "\n",
    "- Given that long-term clients exhibit the highest churn rate, efforts to reduce churn should prioritize them, as they may be dissatisfied with factors such as lack of innovation or price increases, while short-term clients also show notable churn, likely due to unmet expectations."
   ]
  },
  {
   "cell_type": "markdown",
   "metadata": {},
   "source": [
    "**3.To assess the influence of subscription plans (voicemail and international plans) on churn.**"
   ]
  },
  {
   "cell_type": "code",
   "execution_count": 15,
   "metadata": {},
   "outputs": [
    {
     "data": {
      "image/png": "[encoded data removed]",
      "text/plain": [
       "<Figure size 576x432 with 2 Axes>"
      ]
     },
     "metadata": {
      "needs_background": "light"
     },
     "output_type": "display_data"
    }
   ],
   "source": [
    "#Grouping subsription by churn\n",
    "subscription_by_churn=df.groupby(['international plan', 'voice mail plan']).churn.mean()\n",
    "\n",
    "# Reshape the data into a pivot table\n",
    "subscription_by_churn_pivot = subscription_by_churn.unstack()\n",
    "\n",
    "# Create the heatmap\n",
    "plt.figure(figsize=(8, 6))\n",
    "sns.heatmap(subscription_by_churn_pivot, annot=True,cmap=\"Blues\",cbar=True)\n",
    "\n",
    "# Customize plot labels and title\n",
    "plt.title(\"Churn Rate by International and Voice Mail Plans\")\n",
    "plt.xlabel(\"Voice Mail Plan\")\n",
    "plt.ylabel(\"International Plan\")\n",
    "\n",
    "#Save the plot image\n",
    "plt.savefig('Churns by subscription plans')\n",
    "\n",
    "#Plot the figure\n",
    "plt.show()"
   ]
  },
  {
   "cell_type": "markdown",
   "metadata": {},
   "source": [
    "**Findings**\n",
    "\n",
    "**a). International Plan, No Voicemail Plan: This quadrant shows the highest churn rate,** indicating that customers with an International Plan but no Voicemail Plan are the most likely to churn.\n",
    "\n",
    "**b). International Plan, Voicemail Plan: The churn rate here is 2nd highest** suggesting that customers with both an International Plan and a Voicemail Plan still have a significant likelihood of churning.\n",
    "\n",
    "**c). No International Plan, No Voicemail Plan: This group has the 3rd churn rate**  meaning customers without either plan are somewhat less likely to churn than those with International Plans, but still have a notable churn risk.\n",
    "\n",
    "**d). No International Plan, Voicemail Plan: This quadrant has the least churn rate,** indicating that customers with a Voicemail Plan but no International Plan are the least likely to churn.\n",
    "\n",
    "\n",
    "- The findings suggest that International Plan customers, particularly those without a Voicemail Plan, may be a key focus for retention efforts.It appears that these customers have the highest churn rates. This suggests that International Plans may indeed have the biggest problem when it comes to customer retention. This could be a key area for improvement, and targeted strategies focused on enhancing the appeal of these plans (e.g., adding more benefits, offering bundle deals, or improving customer support) to help reduce churn in this segment."
   ]
  },
  {
   "cell_type": "markdown",
   "metadata": {},
   "source": [
    "**4.To evaluate the impact of customer service calls on churn and determine if there is a statistically significant relationship.**"
   ]
  },
  {
   "cell_type": "code",
   "execution_count": 16,
   "metadata": {},
   "outputs": [
    {
     "data": {
      "image/png": "[encoded data removed]",
      "text/plain": [
       "<Figure size 432x288 with 1 Axes>"
      ]
     },
     "metadata": {
      "needs_background": "light"
     },
     "output_type": "display_data"
    }
   ],
   "source": [
    "# Plotting a bar plot for Customer Service Calls vs Churn\n",
    "sns.barplot(x='churn', y='customer service calls', color='skyblue',data=df)\n",
    "plt.title('Churn rate by customer Service calls')\n",
    "\n",
    "#Save the plot image\n",
    "plt.savefig('Churns by customer service')\n",
    "\n",
    "plt.show()"
   ]
  },
  {
   "cell_type": "markdown",
   "metadata": {},
   "source": [
    "**_Interpretation_**\n",
    "\n",
    "- Both customers who churn (True) and those who don't churn (False) seem to have a relatively high number of customer service calls, with values around 0.7.\n",
    "\n",
    "- The error bars indicate the variability or uncertainty in the mean value for each group. The overlap in the error bars suggests that there is no significant difference in customer service call frequencies between churned and non-churned customers.\n",
    "\n",
    "**The below cell expands on this by performing a t-test to confirm if there is a statistically significant relationship between customer service calls and churn rates.**\n",
    "\n",
    "**Null Hypothesis (H₀):** There is no statistical significance in customer service calls and churn rate.\n",
    "\n",
    "**Alternative Hypothesis (H₁):** There is a statistical significance in customer service calls and churn rate."
   ]
  },
  {
   "cell_type": "code",
   "execution_count": 17,
   "metadata": {},
   "outputs": [
    {
     "name": "stdout",
     "output_type": "stream",
     "text": [
      "T-Test p-value: 0.3824618666327664\n",
      "Mann-Whitney U-Test p-value: 0.3824618666327664\n"
     ]
    }
   ],
   "source": [
    "# Splitting data into churned and non-churned groups\n",
    "churned = df[df['churn'] == True]['customer service calls']\n",
    "not_churned = df[df['churn'] == False]['customer service calls']\n",
    "\n",
    "# Perform T-Test (works well with normally distributed data)\n",
    "t_stat, p_value = ttest_ind(churned, not_churned)\n",
    "\n",
    "# Perform Mann-Whitney U Test (if the data is non-normal, the customer service call was skewed)\n",
    "u_stat, p_value = mannwhitneyu(churned, not_churned)\n",
    "\n",
    "# Print results\n",
    "print(f\"T-Test p-value: {p_value}\")\n",
    "\n",
    "print(f\"Mann-Whitney U-Test p-value: {p_value}\")"
   ]
  },
  {
   "cell_type": "markdown",
   "metadata": {},
   "source": [
    "**Interpretation**\n",
    "\n",
    "- The **P-values** for both T-test and Mann-Whitney tests presents to be **>than 0.05.** So, we **fail to reject the null hypothesis** and conclude that there is no statistically significant relationship between customer service calls and churn rate. In other words, the frequency of customer service calls does not have a significant impact on whether a customer churns or not."
   ]
  },
  {
   "cell_type": "markdown",
   "metadata": {},
   "source": [
    "## Modeling\n",
    "\n",
    "- This section focuses on utilizing **Logistic Regression and Decision Trees** as the primary models to predict customer churn at SyriaTel. The target variable is categorical, which is why these models perform well, as they are specifically suited for handling categorical data, particularly binary outcomes like churn prediction."
   ]
  },
  {
   "cell_type": "markdown",
   "metadata": {},
   "source": [
    "**Feature Engineering**"
   ]
  },
  {
   "cell_type": "code",
   "execution_count": 18,
   "metadata": {
    "scrolled": true
   },
   "outputs": [
    {
     "data": {
      "text/html": [
       "<div>\n",
       "<style scoped>\n",
       "    .dataframe tbody tr th:only-of-type {\n",
       "        vertical-align: middle;\n",
       "    }\n",
       "\n",
       "    .dataframe tbody tr th {\n",
       "        vertical-align: top;\n",
       "    }\n",
       "\n",
       "    .dataframe thead th {\n",
       "        text-align: right;\n",
       "    }\n",
       "</style>\n",
       "<table border=\"1\" class=\"dataframe\">\n",
       "  <thead>\n",
       "    <tr style=\"text-align: right;\">\n",
       "      <th></th>\n",
       "      <th>state</th>\n",
       "      <th>international plan</th>\n",
       "      <th>voice mail plan</th>\n",
       "      <th>churn</th>\n",
       "    </tr>\n",
       "  </thead>\n",
       "  <tbody>\n",
       "    <tr>\n",
       "      <th>0</th>\n",
       "      <td>KS</td>\n",
       "      <td>no</td>\n",
       "      <td>yes</td>\n",
       "      <td>False</td>\n",
       "    </tr>\n",
       "    <tr>\n",
       "      <th>2</th>\n",
       "      <td>NJ</td>\n",
       "      <td>no</td>\n",
       "      <td>no</td>\n",
       "      <td>False</td>\n",
       "    </tr>\n",
       "    <tr>\n",
       "      <th>4</th>\n",
       "      <td>OK</td>\n",
       "      <td>yes</td>\n",
       "      <td>no</td>\n",
       "      <td>False</td>\n",
       "    </tr>\n",
       "    <tr>\n",
       "      <th>5</th>\n",
       "      <td>AL</td>\n",
       "      <td>yes</td>\n",
       "      <td>no</td>\n",
       "      <td>False</td>\n",
       "    </tr>\n",
       "    <tr>\n",
       "      <th>7</th>\n",
       "      <td>MO</td>\n",
       "      <td>yes</td>\n",
       "      <td>no</td>\n",
       "      <td>False</td>\n",
       "    </tr>\n",
       "    <tr>\n",
       "      <th>...</th>\n",
       "      <td>...</td>\n",
       "      <td>...</td>\n",
       "      <td>...</td>\n",
       "      <td>...</td>\n",
       "    </tr>\n",
       "    <tr>\n",
       "      <th>3328</th>\n",
       "      <td>AZ</td>\n",
       "      <td>no</td>\n",
       "      <td>yes</td>\n",
       "      <td>False</td>\n",
       "    </tr>\n",
       "    <tr>\n",
       "      <th>3329</th>\n",
       "      <td>WV</td>\n",
       "      <td>no</td>\n",
       "      <td>no</td>\n",
       "      <td>False</td>\n",
       "    </tr>\n",
       "    <tr>\n",
       "      <th>3330</th>\n",
       "      <td>RI</td>\n",
       "      <td>no</td>\n",
       "      <td>no</td>\n",
       "      <td>False</td>\n",
       "    </tr>\n",
       "    <tr>\n",
       "      <th>3331</th>\n",
       "      <td>CT</td>\n",
       "      <td>yes</td>\n",
       "      <td>no</td>\n",
       "      <td>False</td>\n",
       "    </tr>\n",
       "    <tr>\n",
       "      <th>3332</th>\n",
       "      <td>TN</td>\n",
       "      <td>no</td>\n",
       "      <td>yes</td>\n",
       "      <td>False</td>\n",
       "    </tr>\n",
       "  </tbody>\n",
       "</table>\n",
       "<p>2796 rows × 4 columns</p>\n",
       "</div>"
      ],
      "text/plain": [
       "     state international plan voice mail plan  churn\n",
       "0       KS                 no             yes  False\n",
       "2       NJ                 no              no  False\n",
       "4       OK                yes              no  False\n",
       "5       AL                yes              no  False\n",
       "7       MO                yes              no  False\n",
       "...    ...                ...             ...    ...\n",
       "3328    AZ                 no             yes  False\n",
       "3329    WV                 no              no  False\n",
       "3330    RI                 no              no  False\n",
       "3331    CT                yes              no  False\n",
       "3332    TN                 no             yes  False\n",
       "\n",
       "[2796 rows x 4 columns]"
      ]
     },
     "execution_count": 18,
     "metadata": {},
     "output_type": "execute_result"
    }
   ],
   "source": [
    "#Dealing with categorical columns\n",
    "#Inspecting the categorical and boolean columns\n",
    "df[['state','international plan', 'voice mail plan','churn']]"
   ]
  },
  {
   "cell_type": "markdown",
   "metadata": {},
   "source": [
    "- The international plan,\tvoice mail plan and\tchurn columns **have binary values. Therefore, label encoding will apply for these columns, while the state column will involve creating dummies.**"
   ]
  },
  {
   "cell_type": "code",
   "execution_count": 19,
   "metadata": {
    "scrolled": true
   },
   "outputs": [
    {
     "data": {
      "text/html": [
       "<div>\n",
       "<style scoped>\n",
       "    .dataframe tbody tr th:only-of-type {\n",
       "        vertical-align: middle;\n",
       "    }\n",
       "\n",
       "    .dataframe tbody tr th {\n",
       "        vertical-align: top;\n",
       "    }\n",
       "\n",
       "    .dataframe thead th {\n",
       "        text-align: right;\n",
       "    }\n",
       "</style>\n",
       "<table border=\"1\" class=\"dataframe\">\n",
       "  <thead>\n",
       "    <tr style=\"text-align: right;\">\n",
       "      <th></th>\n",
       "      <th>international plan</th>\n",
       "      <th>voice mail plan</th>\n",
       "      <th>churn</th>\n",
       "    </tr>\n",
       "  </thead>\n",
       "  <tbody>\n",
       "    <tr>\n",
       "      <th>0</th>\n",
       "      <td>0</td>\n",
       "      <td>1</td>\n",
       "      <td>0</td>\n",
       "    </tr>\n",
       "    <tr>\n",
       "      <th>2</th>\n",
       "      <td>0</td>\n",
       "      <td>0</td>\n",
       "      <td>0</td>\n",
       "    </tr>\n",
       "    <tr>\n",
       "      <th>4</th>\n",
       "      <td>1</td>\n",
       "      <td>0</td>\n",
       "      <td>0</td>\n",
       "    </tr>\n",
       "    <tr>\n",
       "      <th>5</th>\n",
       "      <td>1</td>\n",
       "      <td>0</td>\n",
       "      <td>0</td>\n",
       "    </tr>\n",
       "    <tr>\n",
       "      <th>7</th>\n",
       "      <td>1</td>\n",
       "      <td>0</td>\n",
       "      <td>0</td>\n",
       "    </tr>\n",
       "    <tr>\n",
       "      <th>...</th>\n",
       "      <td>...</td>\n",
       "      <td>...</td>\n",
       "      <td>...</td>\n",
       "    </tr>\n",
       "    <tr>\n",
       "      <th>3328</th>\n",
       "      <td>0</td>\n",
       "      <td>1</td>\n",
       "      <td>0</td>\n",
       "    </tr>\n",
       "    <tr>\n",
       "      <th>3329</th>\n",
       "      <td>0</td>\n",
       "      <td>0</td>\n",
       "      <td>0</td>\n",
       "    </tr>\n",
       "    <tr>\n",
       "      <th>3330</th>\n",
       "      <td>0</td>\n",
       "      <td>0</td>\n",
       "      <td>0</td>\n",
       "    </tr>\n",
       "    <tr>\n",
       "      <th>3331</th>\n",
       "      <td>1</td>\n",
       "      <td>0</td>\n",
       "      <td>0</td>\n",
       "    </tr>\n",
       "    <tr>\n",
       "      <th>3332</th>\n",
       "      <td>0</td>\n",
       "      <td>1</td>\n",
       "      <td>0</td>\n",
       "    </tr>\n",
       "  </tbody>\n",
       "</table>\n",
       "<p>2796 rows × 3 columns</p>\n",
       "</div>"
      ],
      "text/plain": [
       "      international plan  voice mail plan  churn\n",
       "0                      0                1      0\n",
       "2                      0                0      0\n",
       "4                      1                0      0\n",
       "5                      1                0      0\n",
       "7                      1                0      0\n",
       "...                  ...              ...    ...\n",
       "3328                   0                1      0\n",
       "3329                   0                0      0\n",
       "3330                   0                0      0\n",
       "3331                   1                0      0\n",
       "3332                   0                1      0\n",
       "\n",
       "[2796 rows x 3 columns]"
      ]
     },
     "execution_count": 19,
     "metadata": {},
     "output_type": "execute_result"
    }
   ],
   "source": [
    "# Applying label encoding to the binary columns\n",
    "\n",
    "#Instantiating encoder\n",
    "label_encode=LabelEncoder()\n",
    "\n",
    "#Applying labelencoder to each column\n",
    "df['international plan']=label_encode.fit_transform(df['international plan'])\n",
    "df['voice mail plan']=label_encode.fit_transform(df['voice mail plan'])\n",
    "df['churn']=label_encode.fit_transform(df['churn'])\n",
    "\n",
    "#Confirming the changes\n",
    "\n",
    "df[['international plan', 'voice mail plan','churn']]\n"
   ]
  },
  {
   "cell_type": "markdown",
   "metadata": {},
   "source": [
    "- The label encoding assigned a unique integer based on alphabetical ordering of the text values, where **no was replaced with 0** and **yes replaced with 1** for the **international plan and voice mail plan columns**\n",
    "\n",
    "\n",
    "- For the **Churn column, False was replaced with 0 while True was replaced with 1**\n"
   ]
  },
  {
   "cell_type": "code",
   "execution_count": 20,
   "metadata": {},
   "outputs": [
    {
     "data": {
      "text/plain": [
       "2222    AK\n",
       "1094    AK\n",
       "2571    AK\n",
       "3283    AK\n",
       "657     AK\n",
       "        ..\n",
       "3258    WY\n",
       "609     WY\n",
       "608     WY\n",
       "653     WY\n",
       "856     WY\n",
       "Name: state, Length: 2796, dtype: object"
      ]
     },
     "execution_count": 20,
     "metadata": {},
     "output_type": "execute_result"
    }
   ],
   "source": [
    "# Getting dummies for the state column\n",
    "#The values of the state column before creating dummies\n",
    "df['state'].sort_values(ascending=True)"
   ]
  },
  {
   "cell_type": "markdown",
   "metadata": {},
   "source": [
    "- The AK was the Top state alphabetically with WY being the last state alphabetically."
   ]
  },
  {
   "cell_type": "code",
   "execution_count": 21,
   "metadata": {},
   "outputs": [
    {
     "data": {
      "text/html": [
       "<div>\n",
       "<style scoped>\n",
       "    .dataframe tbody tr th:only-of-type {\n",
       "        vertical-align: middle;\n",
       "    }\n",
       "\n",
       "    .dataframe tbody tr th {\n",
       "        vertical-align: top;\n",
       "    }\n",
       "\n",
       "    .dataframe thead th {\n",
       "        text-align: right;\n",
       "    }\n",
       "</style>\n",
       "<table border=\"1\" class=\"dataframe\">\n",
       "  <thead>\n",
       "    <tr style=\"text-align: right;\">\n",
       "      <th></th>\n",
       "      <th>account length</th>\n",
       "      <th>area code</th>\n",
       "      <th>international plan</th>\n",
       "      <th>voice mail plan</th>\n",
       "      <th>number vmail messages</th>\n",
       "      <th>total day minutes</th>\n",
       "      <th>total day calls</th>\n",
       "      <th>total day charge</th>\n",
       "      <th>total eve minutes</th>\n",
       "      <th>total eve calls</th>\n",
       "      <th>...</th>\n",
       "      <th>state_SD</th>\n",
       "      <th>state_TN</th>\n",
       "      <th>state_TX</th>\n",
       "      <th>state_UT</th>\n",
       "      <th>state_VA</th>\n",
       "      <th>state_VT</th>\n",
       "      <th>state_WA</th>\n",
       "      <th>state_WI</th>\n",
       "      <th>state_WV</th>\n",
       "      <th>state_WY</th>\n",
       "    </tr>\n",
       "  </thead>\n",
       "  <tbody>\n",
       "    <tr>\n",
       "      <th>0</th>\n",
       "      <td>128</td>\n",
       "      <td>415</td>\n",
       "      <td>0</td>\n",
       "      <td>1</td>\n",
       "      <td>3.258097</td>\n",
       "      <td>265.1</td>\n",
       "      <td>110</td>\n",
       "      <td>45.07</td>\n",
       "      <td>197.4</td>\n",
       "      <td>99</td>\n",
       "      <td>...</td>\n",
       "      <td>0</td>\n",
       "      <td>0</td>\n",
       "      <td>0</td>\n",
       "      <td>0</td>\n",
       "      <td>0</td>\n",
       "      <td>0</td>\n",
       "      <td>0</td>\n",
       "      <td>0</td>\n",
       "      <td>0</td>\n",
       "      <td>0</td>\n",
       "    </tr>\n",
       "    <tr>\n",
       "      <th>2</th>\n",
       "      <td>137</td>\n",
       "      <td>415</td>\n",
       "      <td>0</td>\n",
       "      <td>0</td>\n",
       "      <td>0.000000</td>\n",
       "      <td>243.4</td>\n",
       "      <td>114</td>\n",
       "      <td>41.38</td>\n",
       "      <td>121.2</td>\n",
       "      <td>110</td>\n",
       "      <td>...</td>\n",
       "      <td>0</td>\n",
       "      <td>0</td>\n",
       "      <td>0</td>\n",
       "      <td>0</td>\n",
       "      <td>0</td>\n",
       "      <td>0</td>\n",
       "      <td>0</td>\n",
       "      <td>0</td>\n",
       "      <td>0</td>\n",
       "      <td>0</td>\n",
       "    </tr>\n",
       "    <tr>\n",
       "      <th>4</th>\n",
       "      <td>75</td>\n",
       "      <td>415</td>\n",
       "      <td>1</td>\n",
       "      <td>0</td>\n",
       "      <td>0.000000</td>\n",
       "      <td>166.7</td>\n",
       "      <td>113</td>\n",
       "      <td>28.34</td>\n",
       "      <td>148.3</td>\n",
       "      <td>122</td>\n",
       "      <td>...</td>\n",
       "      <td>0</td>\n",
       "      <td>0</td>\n",
       "      <td>0</td>\n",
       "      <td>0</td>\n",
       "      <td>0</td>\n",
       "      <td>0</td>\n",
       "      <td>0</td>\n",
       "      <td>0</td>\n",
       "      <td>0</td>\n",
       "      <td>0</td>\n",
       "    </tr>\n",
       "    <tr>\n",
       "      <th>5</th>\n",
       "      <td>118</td>\n",
       "      <td>510</td>\n",
       "      <td>1</td>\n",
       "      <td>0</td>\n",
       "      <td>0.000000</td>\n",
       "      <td>223.4</td>\n",
       "      <td>98</td>\n",
       "      <td>37.98</td>\n",
       "      <td>220.6</td>\n",
       "      <td>101</td>\n",
       "      <td>...</td>\n",
       "      <td>0</td>\n",
       "      <td>0</td>\n",
       "      <td>0</td>\n",
       "      <td>0</td>\n",
       "      <td>0</td>\n",
       "      <td>0</td>\n",
       "      <td>0</td>\n",
       "      <td>0</td>\n",
       "      <td>0</td>\n",
       "      <td>0</td>\n",
       "    </tr>\n",
       "    <tr>\n",
       "      <th>7</th>\n",
       "      <td>147</td>\n",
       "      <td>415</td>\n",
       "      <td>1</td>\n",
       "      <td>0</td>\n",
       "      <td>0.000000</td>\n",
       "      <td>157.0</td>\n",
       "      <td>79</td>\n",
       "      <td>26.69</td>\n",
       "      <td>103.1</td>\n",
       "      <td>94</td>\n",
       "      <td>...</td>\n",
       "      <td>0</td>\n",
       "      <td>0</td>\n",
       "      <td>0</td>\n",
       "      <td>0</td>\n",
       "      <td>0</td>\n",
       "      <td>0</td>\n",
       "      <td>0</td>\n",
       "      <td>0</td>\n",
       "      <td>0</td>\n",
       "      <td>0</td>\n",
       "    </tr>\n",
       "  </tbody>\n",
       "</table>\n",
       "<p>5 rows × 69 columns</p>\n",
       "</div>"
      ],
      "text/plain": [
       "   account length  area code  international plan  voice mail plan  \\\n",
       "0             128        415                   0                1   \n",
       "2             137        415                   0                0   \n",
       "4              75        415                   1                0   \n",
       "5             118        510                   1                0   \n",
       "7             147        415                   1                0   \n",
       "\n",
       "   number vmail messages  total day minutes  total day calls  \\\n",
       "0               3.258097              265.1              110   \n",
       "2               0.000000              243.4              114   \n",
       "4               0.000000              166.7              113   \n",
       "5               0.000000              223.4               98   \n",
       "7               0.000000              157.0               79   \n",
       "\n",
       "   total day charge  total eve minutes  total eve calls  ...  state_SD  \\\n",
       "0             45.07              197.4               99  ...         0   \n",
       "2             41.38              121.2              110  ...         0   \n",
       "4             28.34              148.3              122  ...         0   \n",
       "5             37.98              220.6              101  ...         0   \n",
       "7             26.69              103.1               94  ...         0   \n",
       "\n",
       "   state_TN  state_TX  state_UT  state_VA  state_VT  state_WA  state_WI  \\\n",
       "0         0         0         0         0         0         0         0   \n",
       "2         0         0         0         0         0         0         0   \n",
       "4         0         0         0         0         0         0         0   \n",
       "5         0         0         0         0         0         0         0   \n",
       "7         0         0         0         0         0         0         0   \n",
       "\n",
       "   state_WV  state_WY  \n",
       "0         0         0  \n",
       "2         0         0  \n",
       "4         0         0  \n",
       "5         0         0  \n",
       "7         0         0  \n",
       "\n",
       "[5 rows x 69 columns]"
      ]
     },
     "execution_count": 21,
     "metadata": {},
     "output_type": "execute_result"
    }
   ],
   "source": [
    "# Getting dummies for the state column\n",
    "df= pd.get_dummies(df,columns=['state'],drop_first=True)\n",
    "df.head()"
   ]
  },
  {
   "cell_type": "code",
   "execution_count": 22,
   "metadata": {
    "scrolled": false
   },
   "outputs": [
    {
     "data": {
      "text/plain": [
       "Index(['account length', 'area code', 'international plan', 'voice mail plan',\n",
       "       'number vmail messages', 'total day minutes', 'total day calls',\n",
       "       'total day charge', 'total eve minutes', 'total eve calls',\n",
       "       'total eve charge', 'total night minutes', 'total night calls',\n",
       "       'total night charge', 'total intl minutes', 'total intl calls',\n",
       "       'total intl charge', 'customer service calls', 'churn', 'state_AL',\n",
       "       'state_AR', 'state_AZ', 'state_CA', 'state_CO', 'state_CT', 'state_DC',\n",
       "       'state_DE', 'state_FL', 'state_GA', 'state_HI', 'state_IA', 'state_ID',\n",
       "       'state_IL', 'state_IN', 'state_KS', 'state_KY', 'state_LA', 'state_MA',\n",
       "       'state_MD', 'state_ME', 'state_MI', 'state_MN', 'state_MO', 'state_MS',\n",
       "       'state_MT', 'state_NC', 'state_ND', 'state_NE', 'state_NH', 'state_NJ',\n",
       "       'state_NM', 'state_NV', 'state_NY', 'state_OH', 'state_OK', 'state_OR',\n",
       "       'state_PA', 'state_RI', 'state_SC', 'state_SD', 'state_TN', 'state_TX',\n",
       "       'state_UT', 'state_VA', 'state_VT', 'state_WA', 'state_WI', 'state_WV',\n",
       "       'state_WY'],\n",
       "      dtype='object')"
      ]
     },
     "execution_count": 22,
     "metadata": {},
     "output_type": "execute_result"
    }
   ],
   "source": [
    "#Confirming the columns after creating dummies\n",
    "df.columns"
   ]
  },
  {
   "cell_type": "markdown",
   "metadata": {},
   "source": [
    "- From the dummies created, the first column, AK was the one dropped. So it will be used as a **reference column.**"
   ]
  },
  {
   "cell_type": "markdown",
   "metadata": {},
   "source": [
    "**1. Logistic Regression**\n",
    "\n",
    "**Baseline Model using Logistic Regression**\n",
    "\n",
    "- This is a simple version of the model that does not include any advanced techniques like feature selection or class imbalance handling, providing a reference for comparing improvements made in subsequent models."
   ]
  },
  {
   "cell_type": "code",
   "execution_count": 23,
   "metadata": {},
   "outputs": [
    {
     "data": {
      "text/html": [
       "<style>#sk-container-id-1 {color: black;background-color: white;}#sk-container-id-1 pre{padding: 0;}#sk-container-id-1 div.sk-toggleable {background-color: white;}#sk-container-id-1 label.sk-toggleable__label {cursor: pointer;display: block;width: 100%;margin-bottom: 0;padding: 0.3em;box-sizing: border-box;text-align: center;}#sk-container-id-1 label.sk-toggleable__label-arrow:before {content: \"▸\";float: left;margin-right: 0.25em;color: #696969;}#sk-container-id-1 label.sk-toggleable__label-arrow:hover:before {color: black;}#sk-container-id-1 div.sk-estimator:hover label.sk-toggleable__label-arrow:before {color: black;}#sk-container-id-1 div.sk-toggleable__content {max-height: 0;max-width: 0;overflow: hidden;text-align: left;background-color: #f0f8ff;}#sk-container-id-1 div.sk-toggleable__content pre {margin: 0.2em;color: black;border-radius: 0.25em;background-color: #f0f8ff;}#sk-container-id-1 input.sk-toggleable__control:checked~div.sk-toggleable__content {max-height: 200px;max-width: 100%;overflow: auto;}#sk-container-id-1 input.sk-toggleable__control:checked~label.sk-toggleable__label-arrow:before {content: \"▾\";}#sk-container-id-1 div.sk-estimator input.sk-toggleable__control:checked~label.sk-toggleable__label {background-color: #d4ebff;}#sk-container-id-1 div.sk-label input.sk-toggleable__control:checked~label.sk-toggleable__label {background-color: #d4ebff;}#sk-container-id-1 input.sk-hidden--visually {border: 0;clip: rect(1px 1px 1px 1px);clip: rect(1px, 1px, 1px, 1px);height: 1px;margin: -1px;overflow: hidden;padding: 0;position: absolute;width: 1px;}#sk-container-id-1 div.sk-estimator {font-family: monospace;background-color: #f0f8ff;border: 1px dotted black;border-radius: 0.25em;box-sizing: border-box;margin-bottom: 0.5em;}#sk-container-id-1 div.sk-estimator:hover {background-color: #d4ebff;}#sk-container-id-1 div.sk-parallel-item::after {content: \"\";width: 100%;border-bottom: 1px solid gray;flex-grow: 1;}#sk-container-id-1 div.sk-label:hover label.sk-toggleable__label {background-color: #d4ebff;}#sk-container-id-1 div.sk-serial::before {content: \"\";position: absolute;border-left: 1px solid gray;box-sizing: border-box;top: 0;bottom: 0;left: 50%;z-index: 0;}#sk-container-id-1 div.sk-serial {display: flex;flex-direction: column;align-items: center;background-color: white;padding-right: 0.2em;padding-left: 0.2em;position: relative;}#sk-container-id-1 div.sk-item {position: relative;z-index: 1;}#sk-container-id-1 div.sk-parallel {display: flex;align-items: stretch;justify-content: center;background-color: white;position: relative;}#sk-container-id-1 div.sk-item::before, #sk-container-id-1 div.sk-parallel-item::before {content: \"\";position: absolute;border-left: 1px solid gray;box-sizing: border-box;top: 0;bottom: 0;left: 50%;z-index: -1;}#sk-container-id-1 div.sk-parallel-item {display: flex;flex-direction: column;z-index: 1;position: relative;background-color: white;}#sk-container-id-1 div.sk-parallel-item:first-child::after {align-self: flex-end;width: 50%;}#sk-container-id-1 div.sk-parallel-item:last-child::after {align-self: flex-start;width: 50%;}#sk-container-id-1 div.sk-parallel-item:only-child::after {width: 0;}#sk-container-id-1 div.sk-dashed-wrapped {border: 1px dashed gray;margin: 0 0.4em 0.5em 0.4em;box-sizing: border-box;padding-bottom: 0.4em;background-color: white;}#sk-container-id-1 div.sk-label label {font-family: monospace;font-weight: bold;display: inline-block;line-height: 1.2em;}#sk-container-id-1 div.sk-label-container {text-align: center;}#sk-container-id-1 div.sk-container {/* jupyter's `normalize.less` sets `[hidden] { display: none; }` but bootstrap.min.css set `[hidden] { display: none !important; }` so we also need the `!important` here to be able to override the default hidden behavior on the sphinx rendered scikit-learn.org. See: https://github.com/scikit-learn/scikit-learn/issues/21755 */display: inline-block !important;position: relative;}#sk-container-id-1 div.sk-text-repr-fallback {display: none;}</style><div id=\"sk-container-id-1\" class=\"sk-top-container\"><div class=\"sk-text-repr-fallback\"><pre>LogisticRegression(random_state=42)</pre><b>In a Jupyter environment, please rerun this cell to show the HTML representation or trust the notebook. <br />On GitHub, the HTML representation is unable to render, please try loading this page with nbviewer.org.</b></div><div class=\"sk-container\" hidden><div class=\"sk-item\"><div class=\"sk-estimator sk-toggleable\"><input class=\"sk-toggleable__control sk-hidden--visually\" id=\"sk-estimator-id-1\" type=\"checkbox\" checked><label for=\"sk-estimator-id-1\" class=\"sk-toggleable__label sk-toggleable__label-arrow\">LogisticRegression</label><div class=\"sk-toggleable__content\"><pre>LogisticRegression(random_state=42)</pre></div></div></div></div></div>"
      ],
      "text/plain": [
       "LogisticRegression(random_state=42)"
      ]
     },
     "execution_count": 23,
     "metadata": {},
     "output_type": "execute_result"
    }
   ],
   "source": [
    "#Defining variables\n",
    "X=df.drop(columns=['churn'], axis=1)\n",
    "y=df['churn']\n",
    "\n",
    "#Splitting the data into train and test splits, 70/30 split\n",
    "X_train, X_test, y_train,y_test=train_test_split(X,y, random_state=42, test_size=0.3)\n",
    "\n",
    "#Scaling the features\n",
    "scaler=StandardScaler()\n",
    "\n",
    "#Fitting on the training data and transforming both the train and test data\n",
    "X_train_scaled= scaler.fit_transform(X_train)\n",
    "X_test_scaled= scaler.transform(X_test)\n",
    "\n",
    "#Convert the scaled features into a dataframe\n",
    "X_train_scaled_df = pd.DataFrame(X_train_scaled, columns=X_train.columns)\n",
    "X_test_scaled_df = pd.DataFrame(X_test_scaled, columns=X_test.columns)\n",
    "\n",
    "# Train Logistic Regression model\n",
    "Baseline_model = LogisticRegression(random_state=42)\n",
    "Baseline_model.fit(X_train_scaled, y_train)"
   ]
  },
  {
   "cell_type": "markdown",
   "metadata": {},
   "source": [
    "**Second Logistic Regression Model**\n",
    "\n",
    "- This second model builds on the baseline model by incorporating feature selection and addressing class imbalance."
   ]
  },
  {
   "cell_type": "code",
   "execution_count": 24,
   "metadata": {},
   "outputs": [
    {
     "data": {
      "text/plain": [
       "0    2492\n",
       "1     304\n",
       "Name: churn, dtype: int64"
      ]
     },
     "execution_count": 24,
     "metadata": {},
     "output_type": "execute_result"
    }
   ],
   "source": [
    "#Checking for class Imbalance in the target variable\n",
    "df['churn'].value_counts()"
   ]
  },
  {
   "cell_type": "markdown",
   "metadata": {},
   "source": [
    "- The churn column portrays to **have a class imbalance with the True Values only being 10% of the target variable and the False values accounting for the remaining 90%.**"
   ]
  },
  {
   "cell_type": "code",
   "execution_count": 25,
   "metadata": {},
   "outputs": [
    {
     "data": {
      "text/plain": [
       "0    1754\n",
       "1    1754\n",
       "Name: churn, dtype: int64"
      ]
     },
     "execution_count": 25,
     "metadata": {},
     "output_type": "execute_result"
    }
   ],
   "source": [
    "# Addressing Class Imbalance\n",
    "# Appling SMOTE\n",
    "smote = SMOTE(sampling_strategy='auto', random_state=42)\n",
    "X_smote, y_smote = smote.fit_resample(X_train_scaled, y_train)\n",
    "\n",
    "# Display class distribution\n",
    "y_smote.value_counts()"
   ]
  },
  {
   "cell_type": "markdown",
   "metadata": {},
   "source": [
    "- The **SMOTE method portrays to have equalized the ratio of the classes,** which could lead to overfitting by generating synthetic samples that might not represent the true distribution. Therefore, **I'll use the class weights option to addres the class imbalance issue,** because it allows the model to pay more attention to the minority class without altering the original dataset, reducing the risk of overfitting and maintaining the natural class distribution."
   ]
  },
  {
   "cell_type": "code",
   "execution_count": 26,
   "metadata": {},
   "outputs": [
    {
     "name": "stdout",
     "output_type": "stream",
     "text": [
      "Selected Features:\n",
      "Index(['account length', 'international plan', 'voice mail plan',\n",
      "       'number vmail messages', 'total day minutes', 'total day charge',\n",
      "       'total eve minutes', 'total eve charge', 'total night minutes',\n",
      "       'total night calls', 'total night charge', 'total intl minutes',\n",
      "       'total intl calls', 'total intl charge', 'customer service calls',\n",
      "       'state_CT', 'state_DC', 'state_LA', 'state_ME', 'state_MT', 'state_NC',\n",
      "       'state_NH', 'state_NJ', 'state_NY', 'state_OH', 'state_OK', 'state_PA',\n",
      "       'state_SC', 'state_TX', 'state_WI'],\n",
      "      dtype='object')\n"
     ]
    }
   ],
   "source": [
    "# Initializing logistic regression model\n",
    "log_reg_model = LogisticRegression(penalty='l2', solver='liblinear',class_weight='balanced',random_state=42)\n",
    "\n",
    "# Initializing RFE and specify the number of features to select\n",
    "rfe = RFE(estimator=log_reg_model, n_features_to_select=30)\n",
    "\n",
    "# Fit and transform the RFE model to the training data\n",
    "X_rfe_train=rfe.fit_transform(X_train_scaled_df,  y_train)\n",
    "\n",
    "#Transforming the test data\n",
    "X_rfe_test=rfe.transform(X_test_scaled_df)\n",
    "\n",
    "# Fitting the model using the selected features\n",
    "log_reg_model.fit(X_rfe_train, y_train)\n",
    "\n",
    "# Getting the names of the selected features\n",
    "selected_features = X_train_scaled_df.columns[rfe.support_]\n",
    "\n",
    "print(\"Selected Features:\")\n",
    "print(selected_features)"
   ]
  },
  {
   "cell_type": "markdown",
   "metadata": {},
   "source": [
    "- The above code applies **feature selection using Recursive Feature Elimination (RFE) with a logistic regression model  to select the top 30 features which accounts for half of the model's features.**\n",
    "\n",
    "- Additionally, class weights are adjusted to handle the class imbalance (L2 regularization and balanced class weights), ensuring that the model doesn’t overfit to the majority class. his process ensures that the most relevant features are retained, improving the model's ability to predict churn effectively."
   ]
  },
  {
   "cell_type": "markdown",
   "metadata": {},
   "source": [
    "**2. Decision Trees Model**\n",
    "\n",
    "**Baseline Model using Decision Tree**\n",
    "\n",
    "- This is a reference model trained on the scaled features of the training dataset without any hyperparameter tuning."
   ]
  },
  {
   "cell_type": "code",
   "execution_count": 27,
   "metadata": {},
   "outputs": [
    {
     "data": {
      "text/html": [
       "<style>#sk-container-id-2 {color: black;background-color: white;}#sk-container-id-2 pre{padding: 0;}#sk-container-id-2 div.sk-toggleable {background-color: white;}#sk-container-id-2 label.sk-toggleable__label {cursor: pointer;display: block;width: 100%;margin-bottom: 0;padding: 0.3em;box-sizing: border-box;text-align: center;}#sk-container-id-2 label.sk-toggleable__label-arrow:before {content: \"▸\";float: left;margin-right: 0.25em;color: #696969;}#sk-container-id-2 label.sk-toggleable__label-arrow:hover:before {color: black;}#sk-container-id-2 div.sk-estimator:hover label.sk-toggleable__label-arrow:before {color: black;}#sk-container-id-2 div.sk-toggleable__content {max-height: 0;max-width: 0;overflow: hidden;text-align: left;background-color: #f0f8ff;}#sk-container-id-2 div.sk-toggleable__content pre {margin: 0.2em;color: black;border-radius: 0.25em;background-color: #f0f8ff;}#sk-container-id-2 input.sk-toggleable__control:checked~div.sk-toggleable__content {max-height: 200px;max-width: 100%;overflow: auto;}#sk-container-id-2 input.sk-toggleable__control:checked~label.sk-toggleable__label-arrow:before {content: \"▾\";}#sk-container-id-2 div.sk-estimator input.sk-toggleable__control:checked~label.sk-toggleable__label {background-color: #d4ebff;}#sk-container-id-2 div.sk-label input.sk-toggleable__control:checked~label.sk-toggleable__label {background-color: #d4ebff;}#sk-container-id-2 input.sk-hidden--visually {border: 0;clip: rect(1px 1px 1px 1px);clip: rect(1px, 1px, 1px, 1px);height: 1px;margin: -1px;overflow: hidden;padding: 0;position: absolute;width: 1px;}#sk-container-id-2 div.sk-estimator {font-family: monospace;background-color: #f0f8ff;border: 1px dotted black;border-radius: 0.25em;box-sizing: border-box;margin-bottom: 0.5em;}#sk-container-id-2 div.sk-estimator:hover {background-color: #d4ebff;}#sk-container-id-2 div.sk-parallel-item::after {content: \"\";width: 100%;border-bottom: 1px solid gray;flex-grow: 1;}#sk-container-id-2 div.sk-label:hover label.sk-toggleable__label {background-color: #d4ebff;}#sk-container-id-2 div.sk-serial::before {content: \"\";position: absolute;border-left: 1px solid gray;box-sizing: border-box;top: 0;bottom: 0;left: 50%;z-index: 0;}#sk-container-id-2 div.sk-serial {display: flex;flex-direction: column;align-items: center;background-color: white;padding-right: 0.2em;padding-left: 0.2em;position: relative;}#sk-container-id-2 div.sk-item {position: relative;z-index: 1;}#sk-container-id-2 div.sk-parallel {display: flex;align-items: stretch;justify-content: center;background-color: white;position: relative;}#sk-container-id-2 div.sk-item::before, #sk-container-id-2 div.sk-parallel-item::before {content: \"\";position: absolute;border-left: 1px solid gray;box-sizing: border-box;top: 0;bottom: 0;left: 50%;z-index: -1;}#sk-container-id-2 div.sk-parallel-item {display: flex;flex-direction: column;z-index: 1;position: relative;background-color: white;}#sk-container-id-2 div.sk-parallel-item:first-child::after {align-self: flex-end;width: 50%;}#sk-container-id-2 div.sk-parallel-item:last-child::after {align-self: flex-start;width: 50%;}#sk-container-id-2 div.sk-parallel-item:only-child::after {width: 0;}#sk-container-id-2 div.sk-dashed-wrapped {border: 1px dashed gray;margin: 0 0.4em 0.5em 0.4em;box-sizing: border-box;padding-bottom: 0.4em;background-color: white;}#sk-container-id-2 div.sk-label label {font-family: monospace;font-weight: bold;display: inline-block;line-height: 1.2em;}#sk-container-id-2 div.sk-label-container {text-align: center;}#sk-container-id-2 div.sk-container {/* jupyter's `normalize.less` sets `[hidden] { display: none; }` but bootstrap.min.css set `[hidden] { display: none !important; }` so we also need the `!important` here to be able to override the default hidden behavior on the sphinx rendered scikit-learn.org. See: https://github.com/scikit-learn/scikit-learn/issues/21755 */display: inline-block !important;position: relative;}#sk-container-id-2 div.sk-text-repr-fallback {display: none;}</style><div id=\"sk-container-id-2\" class=\"sk-top-container\"><div class=\"sk-text-repr-fallback\"><pre>DecisionTreeClassifier(random_state=42)</pre><b>In a Jupyter environment, please rerun this cell to show the HTML representation or trust the notebook. <br />On GitHub, the HTML representation is unable to render, please try loading this page with nbviewer.org.</b></div><div class=\"sk-container\" hidden><div class=\"sk-item\"><div class=\"sk-estimator sk-toggleable\"><input class=\"sk-toggleable__control sk-hidden--visually\" id=\"sk-estimator-id-2\" type=\"checkbox\" checked><label for=\"sk-estimator-id-2\" class=\"sk-toggleable__label sk-toggleable__label-arrow\">DecisionTreeClassifier</label><div class=\"sk-toggleable__content\"><pre>DecisionTreeClassifier(random_state=42)</pre></div></div></div></div></div>"
      ],
      "text/plain": [
       "DecisionTreeClassifier(random_state=42)"
      ]
     },
     "execution_count": 27,
     "metadata": {},
     "output_type": "execute_result"
    }
   ],
   "source": [
    "# Perform an 70/30 split\n",
    "X_train,X_test,y_train,y_test=train_test_split(X,y,random_state=42,test_size=0.3)\n",
    "\n",
    "#Scaling the data\n",
    "scaler= StandardScaler()\n",
    "xtrain_scaled=scaler.fit_transform(X_train)\n",
    "xtest_scaled=scaler.transform(X_test)\n",
    "\n",
    "#Convert the scaled features into a dataframe\n",
    "xtrain_scaled_df = pd.DataFrame(xtrain_scaled, columns=X_train.columns)\n",
    "xtest_scaled_df = pd.DataFrame(xtest_scaled, columns=X_test.columns)\n",
    "\n",
    "# Train a DT classifier\n",
    "baseline_dtc=DecisionTreeClassifier(random_state=42)\n",
    "baseline_dtc.fit(xtrain_scaled_df,y_train)"
   ]
  },
  {
   "cell_type": "markdown",
   "metadata": {},
   "source": [
    "**second Decision Tree Model**\n",
    "\n",
    "- This model builds on the baseline decision tree by using entropy as the criterion for splitting, addressing class imbalance, and incorporating feature selection to enhance performance."
   ]
  },
  {
   "cell_type": "code",
   "execution_count": 28,
   "metadata": {},
   "outputs": [
    {
     "name": "stdout",
     "output_type": "stream",
     "text": [
      "Selected Features:\n",
      "Index(['account length', 'area code', 'international plan', 'voice mail plan',\n",
      "       'number vmail messages', 'total day minutes', 'total day calls',\n",
      "       'total day charge', 'total eve minutes', 'total eve calls',\n",
      "       'total eve charge', 'total night minutes', 'total night calls',\n",
      "       'total night charge', 'total intl minutes', 'total intl calls',\n",
      "       'total intl charge', 'customer service calls', 'state_MN', 'state_MO',\n",
      "       'state_MS', 'state_MT', 'state_NC', 'state_ND', 'state_NE', 'state_NJ',\n",
      "       'state_NV', 'state_NY', 'state_OH', 'state_OK'],\n",
      "      dtype='object')\n"
     ]
    }
   ],
   "source": [
    "# Initialize the DecisionTreeClassifier with the chosen hyperparameters\n",
    "decision_model = DecisionTreeClassifier(\n",
    "    criterion='entropy',        \n",
    "    class_weight='balanced',    \n",
    "    max_depth=20,               \n",
    "    min_samples_leaf=2,         \n",
    "    max_features='sqrt',        \n",
    "    random_state=42             \n",
    ")\n",
    "\n",
    "# Initializing RFE and the number of features to select\n",
    "rfe = RFE(estimator=decision_model, n_features_to_select=30)\n",
    "\n",
    "# Fit and transform the RFE model to the training data\n",
    "Xrfe_train = rfe.fit_transform(xtrain_scaled_df, y_train)\n",
    "\n",
    "# Transforming the test data using the same features selected by RFE\n",
    "Xrfe_test = rfe.transform(xtest_scaled_df)\n",
    "\n",
    "# Fitting the decision tree model using the selected features\n",
    "decision_model.fit(Xrfe_train, y_train)\n",
    "\n",
    "# Get the names of the selected features\n",
    "selected_features = xtrain_scaled_df.columns[rfe.support_]\n",
    "\n",
    "# Print the selected features\n",
    "print(\"Selected Features:\")\n",
    "print(selected_features)"
   ]
  },
  {
   "cell_type": "markdown",
   "metadata": {},
   "source": [
    "- The model highlighted the **most significant features, with call charges, call minutes, and the number of calls being the dominant predictors** for customer churn."
   ]
  },
  {
   "cell_type": "markdown",
   "metadata": {},
   "source": [
    "**Model Evaluation**\n",
    "- This section evaluates the performance of the trained models on the test data using the Classification Report, Confusion Matrix, ROC Curve, and Cross-Validation Score."
   ]
  },
  {
   "cell_type": "markdown",
   "metadata": {},
   "source": [
    "**_a).Confusion Matrix_**"
   ]
  },
  {
   "cell_type": "code",
   "execution_count": 29,
   "metadata": {},
   "outputs": [
    {
     "name": "stderr",
     "output_type": "stream",
     "text": [
      "c:\\Users\\user\\AppData\\Local\\anaconda3\\envs\\learn-env\\lib\\site-packages\\sklearn\\base.py:432: UserWarning: X has feature names, but LogisticRegression was fitted without feature names\n",
      "  warnings.warn(\n"
     ]
    },
    {
     "data": {
      "image/png": "[encoded data removed]",
      "text/plain": [
       "<Figure size 720x432 with 8 Axes>"
      ]
     },
     "metadata": {
      "needs_background": "light"
     },
     "output_type": "display_data"
    }
   ],
   "source": [
    "#Creating confusion matrix for all the models\n",
    "# Predictions for logistic regression models\n",
    "y_pred_baseline = Baseline_model.predict(X_test_scaled_df)  \n",
    "y_pred_second_model = log_reg_model.predict(X_rfe_test)  \n",
    "\n",
    "#Predictions for decision tree models\n",
    "y_pred_baseline_dt = baseline_dtc.predict(xtest_scaled_df)  \n",
    "y_pred_second_model_dt = decision_model.predict(Xrfe_test) \n",
    "\n",
    "\n",
    "# Confusion Matrix for logistic regression models\n",
    "cm_baseline = confusion_matrix(y_test, y_pred_baseline)\n",
    "cm_second_model = confusion_matrix(y_test, y_pred_second_model)\n",
    "\n",
    "# Confusion Matrix for decision tree models\n",
    "dt_baseline = confusion_matrix(y_test, y_pred_baseline_dt)\n",
    "dt_second_model = confusion_matrix(y_test, y_pred_second_model_dt)\n",
    "\n",
    "#Displaying the confusion Matrices\n",
    "fig, axes=plt.subplots(2,2,figsize=(10,6))\n",
    "\n",
    "disp1=ConfusionMatrixDisplay(confusion_matrix=cm_baseline)\n",
    "disp1.plot(cmap='Blues',ax=axes[0,0])\n",
    "axes[0,0].set_title('Confusion Matrix for logistic Baseline Model')\n",
    "\n",
    "\n",
    "disp1=ConfusionMatrixDisplay(confusion_matrix=cm_second_model)\n",
    "disp1.plot(cmap='Blues',ax=axes[0,1])\n",
    "axes[0,1].set_title('Confusion Matrix for logistic 2nd Model')\n",
    "\n",
    "\n",
    "disp1=ConfusionMatrixDisplay(confusion_matrix=dt_baseline)\n",
    "disp1.plot(cmap='Blues',ax=axes[1,0])\n",
    "axes[1,0].set_title('Confusion Matrix for dt baseline Model')\n",
    "\n",
    "\n",
    "disp1=ConfusionMatrixDisplay(confusion_matrix=dt_second_model)\n",
    "disp1.plot(cmap='Blues',ax=axes[1,1])\n",
    "axes[1,1].set_title('Confusion Matrix for dt 2nd Model')\n",
    "\n",
    "#Display the matrices\n",
    "plt.tight_layout()\n",
    "\n",
    "# #Save the plot image\n",
    "plt.savefig('Confusion matrix')\n",
    "\n",
    "#Plot the figure\n",
    "plt.show()"
   ]
  },
  {
   "cell_type": "markdown",
   "metadata": {},
   "source": [
    "**Interpretation**\n",
    "\n",
    "**Logistic Regression Models:**\n",
    "\n",
    "-The second logistic model has a higher number of True Positives (78) but also a higher False Positive rate (150). This indicates that it may incorrectly classify a higher number of non-churn customers as churn, which could be problematic, depending on the cost of false positives.\n",
    "The first logistic model has fewer false positives and false negatives, but its True Positives (39) are lower, which suggests it may be under-predicting churn.\n",
    "\n",
    "\n",
    "**Decision Tree Models:**\n",
    "\n",
    "-Both decision tree models (baseline and second model) perform similarly, with a relatively higher True Positive (60) rate and fewer False Positives compared to logistic regression.\n",
    "The decision tree models seem to strike a better balance between identifying churn customers correctly and avoiding false positives."
   ]
  },
  {
   "cell_type": "markdown",
   "metadata": {},
   "source": [
    "**b).Classification Metrics**"
   ]
  },
  {
   "cell_type": "code",
   "execution_count": 30,
   "metadata": {},
   "outputs": [
    {
     "name": "stdout",
     "output_type": "stream",
     "text": [
      "Classification Report (logistic Baseline Model):\n",
      "               precision    recall  f1-score   support\n",
      "\n",
      "           0       0.92      0.98      0.95       738\n",
      "           1       0.72      0.39      0.50       101\n",
      "\n",
      "    accuracy                           0.91       839\n",
      "   macro avg       0.82      0.68      0.73       839\n",
      "weighted avg       0.90      0.91      0.90       839\n",
      "\n",
      "Classification Report (logistic Second Model):\n",
      "               precision    recall  f1-score   support\n",
      "\n",
      "           0       0.96      0.80      0.87       738\n",
      "           1       0.34      0.77      0.47       101\n",
      "\n",
      "    accuracy                           0.79       839\n",
      "   macro avg       0.65      0.78      0.67       839\n",
      "weighted avg       0.89      0.79      0.82       839\n",
      "\n",
      "Classification Report (dt Baseline Model):\n",
      "               precision    recall  f1-score   support\n",
      "\n",
      "           0       0.95      0.96      0.95       738\n",
      "           1       0.65      0.59      0.62       101\n",
      "\n",
      "    accuracy                           0.91       839\n",
      "   macro avg       0.80      0.78      0.79       839\n",
      "weighted avg       0.91      0.91      0.91       839\n",
      "\n",
      "Classification Report (dt Second Model):\n",
      "               precision    recall  f1-score   support\n",
      "\n",
      "           0       0.94      0.92      0.93       738\n",
      "           1       0.47      0.55      0.51       101\n",
      "\n",
      "    accuracy                           0.87       839\n",
      "   macro avg       0.71      0.74      0.72       839\n",
      "weighted avg       0.88      0.87      0.88       839\n",
      "\n"
     ]
    }
   ],
   "source": [
    "#Creating Classification report for all the models\n",
    "\n",
    "# Classification Report for logistic models\n",
    "print(\"Classification Report (logistic Baseline Model):\\n\", classification_report(y_test, y_pred_baseline))\n",
    "print(\"Classification Report (logistic Second Model):\\n\", classification_report(y_test, y_pred_second_model))\n",
    "\n",
    "# Classification Report for decision tree models\n",
    "print(\"Classification Report (dt Baseline Model):\\n\", classification_report(y_test, y_pred_baseline_dt))\n",
    "print(\"Classification Report (dt Second Model):\\n\", classification_report(y_test, y_pred_second_model_dt))"
   ]
  },
  {
   "cell_type": "markdown",
   "metadata": {},
   "source": [
    "**Interpretation**\n",
    "\n",
    "**Logistic Baseline Model** performs well for non-churn customers(high recall and precision for class 0)but has difficulty identifying churn.This suggests a high number of false negatives (failing to predict churn).\n",
    "\n",
    "**Logistic Second Model** improves churn prediction compared to the baseline model but at the cost of misclassifying more non-churn customers as churn (lower recall for class 0). \n",
    "\n",
    "**Decision Tree Models (both baseline and second)** perform well for non-churn customers, but their performance in detecting churn is still not optimal, with relatively low recall for churn.\n"
   ]
  },
  {
   "cell_type": "markdown",
   "metadata": {},
   "source": [
    "**c).Cross Validation Score**"
   ]
  },
  {
   "cell_type": "code",
   "execution_count": 31,
   "metadata": {},
   "outputs": [
    {
     "name": "stdout",
     "output_type": "stream",
     "text": [
      "Logistic Baseline Model CV Scores:  0.34987804878048784\n",
      "Second Logistic Model CV Scores:  0.8225609756097562\n",
      "Baseline Decision Tree Model CV Scores:  0.6596341463414633\n",
      "Second Decision Tree Model CV Scores:  0.5069512195121952\n"
     ]
    }
   ],
   "source": [
    "# For Baseline Model (with all features)\n",
    "baselinelogistic_cv_scores = cross_val_score(Baseline_model, X_train_scaled_df, y_train, cv=5, scoring='recall')\n",
    "\n",
    "# For Second Model (with L2 regularization and feature selection)\n",
    "secondlogistic_cv_scores = cross_val_score(log_reg_model, X_rfe_train, y_train, cv=5, scoring='recall')\n",
    "\n",
    "#Computing for the baseline decision tree\n",
    "baselinedt_cv_scores = cross_val_score(baseline_dtc, xtrain_scaled_df, y_train, cv=5, scoring='recall')\n",
    "\n",
    "#Computing for the 2nd decision tree(with feature selection)\n",
    "seconddt_cv_scores = cross_val_score(decision_model, Xrfe_train, y_train, cv=5, scoring='recall')\n",
    "\n",
    "# Compare the cross-validation scores\n",
    "print(\"Logistic Baseline Model CV Scores: \", baselinelogistic_cv_scores.mean())\n",
    "print(\"Second Logistic Model CV Scores: \", secondlogistic_cv_scores.mean())\n",
    "print(\"Baseline Decision Tree Model CV Scores: \", baselinedt_cv_scores.mean())\n",
    "print(\"Second Decision Tree Model CV Scores: \", seconddt_cv_scores.mean())"
   ]
  },
  {
   "cell_type": "markdown",
   "metadata": {},
   "source": [
    "**Interpretation**\n",
    "\n",
    "- The Second Logistic Model has the highest validation score based on recall, as the primary focus is to identify as many churners as possible. This model outperforms the others by identifying a significantly higher proportion of churners."
   ]
  },
  {
   "cell_type": "markdown",
   "metadata": {},
   "source": [
    "**d).Roc-curve**"
   ]
  },
  {
   "cell_type": "code",
   "execution_count": 32,
   "metadata": {},
   "outputs": [
    {
     "name": "stderr",
     "output_type": "stream",
     "text": [
      "c:\\Users\\user\\AppData\\Local\\anaconda3\\envs\\learn-env\\lib\\site-packages\\sklearn\\base.py:432: UserWarning: X has feature names, but LogisticRegression was fitted without feature names\n",
      "  warnings.warn(\n"
     ]
    },
    {
     "data": {
      "image/png": "[encoded data removed]",
      "text/plain": [
       "<Figure size 720x432 with 1 Axes>"
      ]
     },
     "metadata": {
      "needs_background": "light"
     },
     "output_type": "display_data"
    }
   ],
   "source": [
    "# First calculate the probability scores of each of the datapoints:\n",
    "#For logistic models\n",
    "y_score_baseline = Baseline_model.decision_function(X_test_scaled_df)\n",
    "y_score_baseline_second_model= log_reg_model.decision_function(X_rfe_test)\n",
    "\n",
    "#For decision Tree models\n",
    "y_score_dt_baseline = baseline_dtc.predict_proba(xtest_scaled_df)[:, 1]\n",
    "y_score_dt_second_model= decision_model.predict_proba(Xrfe_test)[:, 1]\n",
    "\n",
    "#Calculating the False Positive Rate (FPR), True Positive Rate (TPR), and thresholds for the models\n",
    "\n",
    "fpr_baseline, tpr_baseline, thresholdslg = roc_curve(y_test, y_score_baseline)\n",
    "fpr_second_model, tpr_second_model,thresholdssm = roc_curve(y_test, y_score_baseline_second_model)\n",
    "fpr_dtbaseline, tpr_dtbaseline, thresholdsdt = roc_curve(y_test, y_score_dt_baseline)\n",
    "fpr_dtsecond_model, tpr_dtsecond_model,thresholdssdt = roc_curve(y_test, y_score_dt_second_model)\n",
    "\n",
    "# Plot ROC Curve for both models\n",
    "plt.figure(figsize=(10, 6))\n",
    "plt.plot(fpr_baseline, tpr_baseline, color='blue', label='Logistic Baseline Model')\n",
    "plt.plot(fpr_second_model, tpr_second_model, color='purple', label='Logistic Second Model')\n",
    "plt.plot(fpr_dtbaseline, tpr_dtbaseline, color='green', label='Decision Tree Baseline Model')\n",
    "plt.plot(fpr_dtsecond_model, tpr_dtsecond_model, color='orange', label='Decision Tree Second Model')\n",
    "plt.plot([0, 1], [0, 1],color='gray', linestyle='--',label='Random Guessing')\n",
    "plt.xlabel('False Positive Rate')\n",
    "plt.ylabel('True Positive Rate')\n",
    "plt.title('ROC Curve Comparison')\n",
    "plt.legend(loc='lower right')\n",
    "\n",
    "# #Save the plot image\n",
    "plt.savefig('ROC Curve')\n",
    "\n",
    "#Plot the figure\n",
    "plt.show()"
   ]
  },
  {
   "cell_type": "code",
   "execution_count": 33,
   "metadata": {},
   "outputs": [
    {
     "name": "stdout",
     "output_type": "stream",
     "text": [
      "AUC for Logistic Baseline Model: 0.8206820682068208\n",
      "AUC for 2nd Logistic Model: 0.8256728111835574\n",
      "AUC for Decision Tree Baseline Model: 0.775349486168129\n",
      "AUC for 2nd Decision Tree Model: 0.7457940916042824\n"
     ]
    }
   ],
   "source": [
    "# Print the AUC values\n",
    "print('AUC for Logistic Baseline Model: {}'.format(auc(fpr_baseline, tpr_baseline)))\n",
    "print('AUC for 2nd Logistic Model: {}'.format(auc(fpr_second_model, tpr_second_model)))\n",
    "print('AUC for Decision Tree Baseline Model: {}'.format(auc(fpr_dtbaseline, tpr_dtbaseline)))\n",
    "print('AUC for 2nd Decision Tree Model: {}'.format(auc(fpr_dtsecond_model, tpr_dtsecond_model)))"
   ]
  },
  {
   "cell_type": "markdown",
   "metadata": {},
   "source": [
    "**Interpretation**\n",
    "\n",
    "- Logistic Baseline Model: Performs well but is outperformed by the logistic second model, showing room for improvement in feature selection or tuning.\n",
    "\n",
    "- Logistic Second Model: The best-performing model, achieving the highest TPR and lowest FPR, indicating effective optimization for churn prediction.\n",
    "\n",
    "- Decision Tree Baseline Model: Provides moderate performance, but its ROC curve suggests it struggles with generalization compared to the logistic models.\n",
    "\n",
    "- Decision Tree Second Model: Shows slight improvement over the baseline decision tree, but still lags behind the logistic models in predictive power."
   ]
  },
  {
   "cell_type": "markdown",
   "metadata": {},
   "source": [
    "**Conclusion and Model Ranking**\n",
    "\n",
    "**- Second Logistic Regression Model:** The second logistic regression model is the best for churn prediction, with the highest recall, identifying the most churners, although at the cost of more false positives.\n",
    "\n",
    "**- Logistic Baseline Model:** The logistic baseline model performs well in differentiating between churn and non-churn customers but has a lower recall, missing many churners.\n",
    "\n",
    "**- Decision Tree Baseline Model:** The decision tree baseline model strikes a balance between precision and recall but still fails to capture as many churners as the logistic models.\n",
    "\n",
    "**- Decision Tree Second Model:** The decision tree second model underperforms in churn detection, with the lowest recall, indicating it misses a significant number of churners.\n"
   ]
  },
  {
   "cell_type": "markdown",
   "metadata": {},
   "source": [
    "**Final Model**\n",
    "\n",
    "**5. To predict churn by focusing on the most influential features that drive customer behavior and retention patterns**\n",
    "\n",
    "- Based on the analysis of the models, **the second logistic regression model is the best choice for predicting customer churn at Syria Tel. While it has a slightly higher False Positive rate, its superior recall score indicates that it is more effective at identifying churners, which is the primary goal for this business problem.** By capturing more churners (True Positives), the model offers a better chance to retain high-risk customers, which is more cost-effective than failing to identify churners and losing them to competitors.\n",
    "\n",
    "\n",
    "- Although the higher False Positive rate poses a risk of misclassifying non-churn customers as churners, the financial cost of reaching out to false positives is generally lower than the cost of not addressing actual churners. This trade-off makes this model more suitable for improving customer retention, which is crucial for SyriaTel’s profitability and long-term growth. \n",
    "\n",
    "\n",
    "- This final model achieves the stated objective by optimizing the most critical features influencing churn prediction​,such as account details, usage metrics, customer service interactions, and geographic information. Given its potential, it should be prioritized for further tuning to optimize its accuracy and enhance customer retention strategies."
   ]
  },
  {
   "cell_type": "markdown",
   "metadata": {},
   "source": [
    "## Conclusion"
   ]
  },
  {
   "cell_type": "markdown",
   "metadata": {},
   "source": [
    "1. The highly affected region for churn is 408, which has the leading churn rate\n",
    "\n",
    "2. The churn rate analysis based on account length shows that long-term customers (over 14 years) have the highest churn rate, followed by short-term customers (7 years or less) with the second-highest churn rate, while mid-term customers (7-14 years) exhibit the lowest churn rate.\n",
    "\n",
    "3. The findings reveal that customers with an International Plan but no Voicemail Plan have the highest churn rate, followed by those with both plans, while customers without either plan have the third-highest churn rate, and those with only a Voicemail Plan have the lowest churn rate.\n",
    "\n",
    "4. The analysis indicates that the average number of customer service calls is relatively high for both churners and non-churners, with no statistically significant relationship between customer service calls and churn rate.\n",
    "\n",
    "5. Based on the analysis, the second logistic regression model stands out as the most effective for predicting customer churn at SyriaTel.It meets the success criteria achieving a 77% recall. While it has a slightly higher False Positive rate, its superior recall score ensures it effectively identifies churners, a critical aspect for enhancing retention strategies. The model highlights key factors influencing churn, including call charges, account length, geographic region, subscription options, and the number of calls/minutes relative to charges."
   ]
  },
  {
   "cell_type": "markdown",
   "metadata": {
    "scrolled": true
   },
   "source": [
    "## Recommendations"
   ]
  },
  {
   "cell_type": "markdown",
   "metadata": {},
   "source": [
    "1. SyriaTel should conduct further research to identify the factors driving the high churn rate in the 408 region, which differs from others, and develop targeted strategies for improving customer retention.\n",
    "\n",
    "2. SyriaTel should focus on retaining long-term customers by addressing potential dissatisfaction and innovating offerings, while improving short-term customer satisfaction through better onboarding and support. Mid-term customers should be engaged with loyalty programs to maintain their retention.\n",
    "\n",
    "3. SyriaTel should focus on retaining International Plan customers, especially those without a Voicemail Plan, by offering cost-effective strategies like enhancing plan benefits, bundling services, and improving customer support.\n",
    "\n",
    "4. Since customer service calls are not significantly related to churn rate, S SyriaTel should shift focus to improving other key aspects of the customer experience, such as product quality, pricing, and service offerings, to enhance customer retention and reduce churn.\n",
    "\n",
    "5. Based on the findings, SyriaTel should prioritize further tuning and optimization of the second logistic regression model, as its superior recall score makes it more effective at identifying churners, thereby enhancing customer retention strategies and reducing churn."
   ]
  },
  {
   "cell_type": "markdown",
   "metadata": {},
   "source": [
    "## Next Steps"
   ]
  },
  {
   "cell_type": "markdown",
   "metadata": {},
   "source": [
    "1. Deploy the logistic regression model into SyriaTel's customer retention system. Integrate the model's predictions into real-time operations, such as CRM systems, to trigger automated retention actions like personalized offers or loyalty programs for at-risk customers.The model should also be continuously updated with new customer data to maintain its predictive power and accuracy over time.\n",
    "\n",
    "2. There is a need for a deep dive into the 408 region to gather customer feedback or detailed insights into regional challenges. Further qualitative analysis may be needed to understand if factors like service quality, local competition, or pricing are impacting retention.\n",
    "\n",
    "3. Implement a feedback loop to gather insights from customers who churn and those who stay, continuously improving the customer experience and identifying pain points that were not previously addressed. Additionally, a structured process is needed for collecting and acting on customer feedback."
   ]
  }
 ],
 "metadata": {
  "kernelspec": {
   "display_name": "Python (learn-env)",
   "language": "python",
   "name": "learn-env"
  },
  "language_info": {
   "codemirror_mode": {
    "name": "ipython",
    "version": 3
   },
   "file_extension": ".py",
   "mimetype": "text/x-python",
   "name": "python",
   "nbconvert_exporter": "python",
   "pygments_lexer": "ipython3",
   "version": "3.8.5"
  }
 },
 "nbformat": 4,
 "nbformat_minor": 4
}
